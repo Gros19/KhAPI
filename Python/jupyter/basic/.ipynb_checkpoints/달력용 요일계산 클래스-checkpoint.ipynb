{
 "cells": [
  {
   "cell_type": "code",
   "execution_count": 2,
   "metadata": {},
   "outputs": [
    {
     "name": "stdout",
     "output_type": "stream",
     "text": [
      "년을 입력하세요: 222\n"
     ]
    }
   ],
   "source": []
  },
  {
   "cell_type": "code",
   "execution_count": 3,
   "metadata": {},
   "outputs": [
    {
     "name": "stdout",
     "output_type": "stream",
     "text": [
      "며칠인지 입력하세요22\n",
      "월요일 입니다.\n",
      "며칠인지 입력하세요11\n",
      "목요일 입니다.\n",
      "며칠인지 입력하세요31\n",
      "수요일 입니다.\n",
      "며칠인지 입력하세요1\n",
      "월요일 입니다.\n",
      "며칠인지 입력하세요2\n",
      "화요일 입니다.\n",
      "며칠인지 입력하세요3\n",
      "수요일 입니다.\n",
      "며칠인지 입력하세요4\n",
      "목요일 입니다.\n",
      "며칠인지 입력하세요3\n",
      "수요일 입니다.\n",
      "며칠인지 입력하세요2\n",
      "화요일 입니다.\n",
      "며칠인지 입력하세요3\n",
      "수요일 입니다.\n"
     ]
    }
   ],
   "source": [
    "\n",
    "    "
   ]
  },
  {
   "cell_type": "code",
   "execution_count": 82,
   "metadata": {},
   "outputs": [],
   "source": [
    "class CalDays:   \n",
    "    def __init__(self, y, m ,d):\n",
    "        self.y = y\n",
    "        self.m = m\n",
    "        self.d = d\n",
    "    \n",
    "    def setYMD(self, y, m, d):\n",
    "        self.y, self.m, self.d = int(y), int(m), int(d)\n",
    "    \n",
    "    def yCheck(y):\n",
    "        if y % 400 == 0:\n",
    "            #print(\"윤년입니다.\")\n",
    "            return True\n",
    "        elif y % 100 != 0 and y % 4 == 0:\n",
    "            #print(\"윤년입니다.\")\n",
    "            return True\n",
    "        else:\n",
    "            #print(\"평년입니다.\")\n",
    "            return False     \n",
    "\n",
    "    def daysCheck(day):\n",
    "        list = [\"월\", \"화\", \"수\", \"목\", \"금\", \"토\", \"일\"]\n",
    "        #print(f\"{list[(day-1)%7]}요일 입니다.\")\n",
    "\n",
    "    def yearMonthDay(self):\n",
    "\n",
    "        totalDay = 0\n",
    "\n",
    "        #print(f\"입력받은 년: {self.y}, 월: {self.m}, 일: {self.d}\")\n",
    "        month = [31, 28, 31, 30, 31, 30, 31, 31, 30, 31, 30, 31]\n",
    "\n",
    "        if yCheck(self.y) == True:\n",
    "            #윤년일떄\n",
    "            month[1] = 29\n",
    "        else:\n",
    "            #평년일때\n",
    "            month[1] = 28\n",
    "\n",
    "        #작년까지 모든 일수를 더한 후\n",
    "        #올해 월과 일을 더하는 방식으로\n",
    "        for i in range(1, self.y):\n",
    "            totalDay += 365\n",
    "\n",
    "        #전월까지 일수를 모두 더하고\n",
    "        for i in range(0,(self.m-1)):\n",
    "            totalDay += month[i]\n",
    "\n",
    "        #당월은 입력받은 날자만 더합니다.\n",
    "        daysCheck(totalDay + self.d)"
   ]
  },
  {
   "cell_type": "code",
   "execution_count": 52,
   "metadata": {},
   "outputs": [
    {
     "name": "stdout",
     "output_type": "stream",
     "text": [
      "형식을 맞춰주세요\n",
      "ex>2021-08-12 :2022-01-11\n",
      "2022 1 11\n"
     ]
    }
   ],
   "source": [
    "y,m,d  = map(int, input(\"형식을 맞춰주세요\\nex>2021-08-12 :\").strip().split(\"-\"))\n",
    "print(y, m, d)"
   ]
  },
  {
   "cell_type": "code",
   "execution_count": 51,
   "metadata": {},
   "outputs": [
    {
     "name": "stdout",
     "output_type": "stream",
     "text": [
      "입력받은 년: 2022, 월: 1, 일: 12\n",
      "평년입니다.\n",
      "수요일 입니다.\n"
     ]
    }
   ],
   "source": [
    "yearMonthDay(y, m, d)"
   ]
  },
  {
   "cell_type": "code",
   "execution_count": 83,
   "metadata": {},
   "outputs": [],
   "source": [
    "cal1 = CalDays(2022, 1, 14)"
   ]
  },
  {
   "cell_type": "code",
   "execution_count": 84,
   "metadata": {},
   "outputs": [
    {
     "name": "stdout",
     "output_type": "stream",
     "text": [
      "입력받은 년: 2022, 월: 1, 일: 14\n",
      "평년입니다.\n",
      "금요일 입니다.\n"
     ]
    }
   ],
   "source": [
    "cal1.yearMonthDay()"
   ]
  },
  {
   "cell_type": "code",
   "execution_count": 85,
   "metadata": {},
   "outputs": [],
   "source": [
    "cal1.setYMD(2022, 1, 11)"
   ]
  },
  {
   "cell_type": "code",
   "execution_count": 86,
   "metadata": {},
   "outputs": [
    {
     "name": "stdout",
     "output_type": "stream",
     "text": [
      "입력받은 년: 2022, 월: 1, 일: 11\n",
      "평년입니다.\n",
      "화요일 입니다.\n"
     ]
    }
   ],
   "source": [
    "cal1.yearMonthDay()"
   ]
  },
  {
   "cell_type": "code",
   "execution_count": null,
   "metadata": {},
   "outputs": [],
   "source": []
  }
 ],
 "metadata": {
  "kernelspec": {
   "display_name": "Python 3",
   "language": "python",
   "name": "python3"
  },
  "language_info": {
   "codemirror_mode": {
    "name": "ipython",
    "version": 3
   },
   "file_extension": ".py",
   "mimetype": "text/x-python",
   "name": "python",
   "nbconvert_exporter": "python",
   "pygments_lexer": "ipython3",
   "version": "3.6.10"
  }
 },
 "nbformat": 4,
 "nbformat_minor": 4
}
