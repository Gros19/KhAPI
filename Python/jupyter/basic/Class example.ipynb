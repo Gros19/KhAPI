{
 "cells": [
  {
   "cell_type": "code",
   "execution_count": 9,
   "metadata": {},
   "outputs": [],
   "source": [
    "class Person:\n",
    "    lastname = \"bak\"\n",
    "    def setname(self, name):\n",
    "        self.fullname = self.lastname + \" \" +name"
   ]
  },
  {
   "cell_type": "code",
   "execution_count": 10,
   "metadata": {},
   "outputs": [],
   "source": [
    "p1 = Person()"
   ]
  },
  {
   "cell_type": "code",
   "execution_count": 11,
   "metadata": {},
   "outputs": [],
   "source": [
    "p2 = Person()"
   ]
  },
  {
   "cell_type": "code",
   "execution_count": 12,
   "metadata": {},
   "outputs": [],
   "source": [
    "p1.setname(\"coco\")"
   ]
  },
  {
   "cell_type": "code",
   "execution_count": 13,
   "metadata": {},
   "outputs": [],
   "source": [
    "p2.setname(\"kak\")"
   ]
  },
  {
   "cell_type": "code",
   "execution_count": 14,
   "metadata": {},
   "outputs": [
    {
     "data": {
      "text/plain": [
       "'bak coco'"
      ]
     },
     "execution_count": 14,
     "metadata": {},
     "output_type": "execute_result"
    }
   ],
   "source": [
    "p1.fullname"
   ]
  },
  {
   "cell_type": "code",
   "execution_count": 15,
   "metadata": {},
   "outputs": [
    {
     "data": {
      "text/plain": [
       "'bak kak'"
      ]
     },
     "execution_count": 15,
     "metadata": {},
     "output_type": "execute_result"
    }
   ],
   "source": [
    "p2.fullname"
   ]
  },
  {
   "cell_type": "code",
   "execution_count": 23,
   "metadata": {},
   "outputs": [],
   "source": [
    "class HousePark:\n",
    "    \n",
    "    lastname = \"박\"\n",
    "    \n",
    "    \n",
    "    def __init__(self,name):\n",
    "        self.fullname = self.lastname + \" \" + name\n",
    "        \n",
    "    def travel(self, where):\n",
    "        print(f\"{self.fullname}, {where}여행을 가다.\")\n",
    "        \n",
    "    def love(self, other):\n",
    "        print(f\"{self.fullname}, {other.fullname} 사랑에 빠졌네\")\n",
    "        \n",
    "    def fight(self, other):\n",
    "        print(f\"{self.fullname}, {other.fullname} 또 싸우네\")\n",
    "        \n",
    "    def __add__(self, other):\n",
    "        print(f\"{self.fullname}, {other.fullname} 결혼했네\")\n",
    "        \n",
    "    def __sub__(self, other):\n",
    "        print(f\"{self.fullname}, {other.fullname} 결국 이혼했네\")\n",
    "        \n",
    "class HouseKim(HousePark):\n",
    "    lastname = \"김\"\n",
    "    def travel(self, where, day):\n",
    "        print(f\"{self.fullname}, {where}여행 {day}일 가네\")\n",
    "        \n"
   ]
  },
  {
   "cell_type": "code",
   "execution_count": 24,
   "metadata": {},
   "outputs": [],
   "source": [
    "p2 = HousePark(\"wuangza\")"
   ]
  },
  {
   "cell_type": "code",
   "execution_count": 25,
   "metadata": {},
   "outputs": [],
   "source": [
    "p1 = HouseKim(\"gongju\")"
   ]
  },
  {
   "cell_type": "code",
   "execution_count": 26,
   "metadata": {},
   "outputs": [
    {
     "name": "stdout",
     "output_type": "stream",
     "text": [
      "박 wuangza, GS여행을 가다.\n"
     ]
    }
   ],
   "source": [
    "p2.travel(\"GS\")"
   ]
  },
  {
   "cell_type": "code",
   "execution_count": 27,
   "metadata": {},
   "outputs": [
    {
     "name": "stdout",
     "output_type": "stream",
     "text": [
      "김 gongju, US여행 20일 가네\n"
     ]
    }
   ],
   "source": [
    "p1.travel(\"US\", 20)"
   ]
  },
  {
   "cell_type": "code",
   "execution_count": 28,
   "metadata": {},
   "outputs": [
    {
     "name": "stdout",
     "output_type": "stream",
     "text": [
      "김 gongju, 박 wuangza 사랑에 빠졌네\n"
     ]
    }
   ],
   "source": [
    "p1.love(p2)"
   ]
  },
  {
   "cell_type": "code",
   "execution_count": 29,
   "metadata": {},
   "outputs": [
    {
     "name": "stdout",
     "output_type": "stream",
     "text": [
      "박 wuangza, 김 gongju 또 싸우네\n"
     ]
    }
   ],
   "source": [
    "p2.fight(p1)"
   ]
  },
  {
   "cell_type": "code",
   "execution_count": 30,
   "metadata": {},
   "outputs": [
    {
     "name": "stdout",
     "output_type": "stream",
     "text": [
      "김 gongju, 박 wuangza 결혼했네\n"
     ]
    }
   ],
   "source": [
    "p1 + p2"
   ]
  },
  {
   "cell_type": "code",
   "execution_count": 31,
   "metadata": {},
   "outputs": [
    {
     "name": "stdout",
     "output_type": "stream",
     "text": [
      "김 gongju, 박 wuangza 결국 이혼했네\n"
     ]
    }
   ],
   "source": [
    "p1 - p2"
   ]
  },
  {
   "cell_type": "code",
   "execution_count": null,
   "metadata": {},
   "outputs": [],
   "source": []
  }
 ],
 "metadata": {
  "kernelspec": {
   "display_name": "Python 3",
   "language": "python",
   "name": "python3"
  },
  "language_info": {
   "codemirror_mode": {
    "name": "ipython",
    "version": 3
   },
   "file_extension": ".py",
   "mimetype": "text/x-python",
   "name": "python",
   "nbconvert_exporter": "python",
   "pygments_lexer": "ipython3",
   "version": "3.6.10"
  }
 },
 "nbformat": 4,
 "nbformat_minor": 4
}
