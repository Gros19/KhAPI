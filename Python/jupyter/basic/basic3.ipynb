{
 "cells": [
  {
   "cell_type": "code",
   "execution_count": 2,
   "metadata": {},
   "outputs": [
    {
     "data": {
      "text/plain": [
       "True"
      ]
     },
     "execution_count": 2,
     "metadata": {},
     "output_type": "execute_result"
    }
   ],
   "source": [
    "list = [1, 2, 3]\n",
    "1 in list"
   ]
  },
  {
   "cell_type": "code",
   "execution_count": 3,
   "metadata": {},
   "outputs": [
    {
     "data": {
      "text/plain": [
       "False"
      ]
     },
     "execution_count": 3,
     "metadata": {},
     "output_type": "execute_result"
    }
   ],
   "source": [
    "1 not in list"
   ]
  },
  {
   "cell_type": "code",
   "execution_count": 4,
   "metadata": {},
   "outputs": [
    {
     "data": {
      "text/plain": [
       "False"
      ]
     },
     "execution_count": 4,
     "metadata": {},
     "output_type": "execute_result"
    }
   ],
   "source": [
    "432 in list"
   ]
  },
  {
   "cell_type": "code",
   "execution_count": 4,
   "metadata": {},
   "outputs": [
    {
     "name": "stdout",
     "output_type": "stream",
     "text": [
      "2\n",
      "4\n",
      "6\n",
      "8\n",
      "10\n"
     ]
    }
   ],
   "source": [
    "a = 0\n",
    "while a < 10 :\n",
    "    a = a + 1\n",
    "    if a % 2 == 0:\n",
    "        print(a)"
   ]
  },
  {
   "cell_type": "code",
   "execution_count": 6,
   "metadata": {},
   "outputs": [
    {
     "name": "stdout",
     "output_type": "stream",
     "text": [
      "1\n",
      "3\n",
      "5\n",
      "7\n",
      "9\n"
     ]
    }
   ],
   "source": [
    "a = 0\n",
    "while a < 10 :\n",
    "    a = a + 1\n",
    "    if a % 2 == 0: continue\n",
    "    print(a)"
   ]
  },
  {
   "cell_type": "code",
   "execution_count": 11,
   "metadata": {},
   "outputs": [
    {
     "name": "stdout",
     "output_type": "stream",
     "text": [
      "1\n",
      "2\n",
      "3\n",
      "4\n"
     ]
    }
   ],
   "source": [
    "tuple = 1, 2, 3, 4 \n",
    "for i in tuple:\n",
    "    print(i)"
   ]
  },
  {
   "cell_type": "code",
   "execution_count": 13,
   "metadata": {},
   "outputs": [
    {
     "name": "stdout",
     "output_type": "stream",
     "text": [
      "1\n",
      "2\n",
      "3\n",
      "4\n",
      "5\n",
      "6\n",
      "7\n",
      "8\n",
      "9\n"
     ]
    }
   ],
   "source": [
    "for a in range(1, 10):\n",
    "    print(a)"
   ]
  },
  {
   "cell_type": "code",
   "execution_count": 15,
   "metadata": {},
   "outputs": [
    {
     "name": "stdout",
     "output_type": "stream",
     "text": [
      "1\n",
      "2\n",
      "a\n",
      "False\n",
      "True\n"
     ]
    }
   ],
   "source": [
    "list1102 = [1,2,'a',False, True]\n",
    "for j in range(len(list1102)):\n",
    "    print(list1102[j])"
   ]
  },
  {
   "cell_type": "code",
   "execution_count": 17,
   "metadata": {},
   "outputs": [
    {
     "name": "stdout",
     "output_type": "stream",
     "text": [
      "3\n",
      "7\n",
      "11\n"
     ]
    }
   ],
   "source": [
    "a = [(1,2), (3,4), (5,6)]\n",
    "for i, j in a:\n",
    "    print(i + j)"
   ]
  },
  {
   "cell_type": "code",
   "execution_count": 97,
   "metadata": {},
   "outputs": [
    {
     "name": "stdout",
     "output_type": "stream",
     "text": [
      "[3, 6, 9, 12]\n"
     ]
    }
   ],
   "source": [
    "a = [1,2,3,4]\n",
    "result = []\n",
    "for num in a:\n",
    "    result.append(num*3)\n",
    "    \n",
    "print(result)"
   ]
  },
  {
   "cell_type": "code",
   "execution_count": 99,
   "metadata": {},
   "outputs": [
    {
     "name": "stdout",
     "output_type": "stream",
     "text": [
      "[3, 6, 9, 12]\n"
     ]
    }
   ],
   "source": [
    "result2 = [num * 3 for num in a]\n",
    "print(result2)"
   ]
  },
  {
   "cell_type": "code",
   "execution_count": 101,
   "metadata": {},
   "outputs": [
    {
     "name": "stdout",
     "output_type": "stream",
     "text": [
      "[2, 4, 6, 8, 10, 12, 14, 16, 18, 3, 6, 9, 12, 15, 18, 21, 24, 27, 4, 8, 12, 16, 20, 24, 28, 32, 36, 5, 10, 15, 20, 25, 30, 35, 40, 45, 6, 12, 18, 24, 30, 36, 42, 48, 54, 7, 14, 21, 28, 35, 42, 49, 56, 63, 8, 16, 24, 32, 40, 48, 56, 64, 72, 9, 18, 27, 36, 45, 54, 63, 72, 81]\n"
     ]
    }
   ],
   "source": [
    "result3 = [x*y for x in range(2, 10) for y in range(1, 10)]\n",
    "print(result3)"
   ]
  },
  {
   "cell_type": "code",
   "execution_count": 103,
   "metadata": {},
   "outputs": [],
   "source": [
    "def sum_many(*args):\n",
    "    sum = 0\n",
    "    print(type(args))\n",
    "    for i in args:\n",
    "        sum = sum + i\n",
    "    return print(sum)"
   ]
  },
  {
   "cell_type": "code",
   "execution_count": 104,
   "metadata": {},
   "outputs": [
    {
     "name": "stdout",
     "output_type": "stream",
     "text": [
      "<class 'tuple'>\n",
      "10\n"
     ]
    }
   ],
   "source": [
    "sum_many(1,2,3,4)"
   ]
  },
  {
   "cell_type": "code",
   "execution_count": 106,
   "metadata": {},
   "outputs": [],
   "source": [
    "def cal_many(choice, *args):\n",
    "    result = 0\n",
    "    if choice == \"sum\":\n",
    "        for i in args:\n",
    "            result += i\n",
    "        return result\n",
    "    \n",
    "    elif choice == \"mul\":\n",
    "        result = 1\n",
    "        for i in args:\n",
    "            result *= i\n",
    "            \n",
    "    return result"
   ]
  },
  {
   "cell_type": "code",
   "execution_count": 107,
   "metadata": {},
   "outputs": [
    {
     "data": {
      "text/plain": [
       "120"
      ]
     },
     "execution_count": 107,
     "metadata": {},
     "output_type": "execute_result"
    }
   ],
   "source": [
    "cal_many(\"mul\", 1, 2, 3, 4, 5)"
   ]
  },
  {
   "cell_type": "code",
   "execution_count": 108,
   "metadata": {},
   "outputs": [
    {
     "data": {
      "text/plain": [
       "15"
      ]
     },
     "execution_count": 108,
     "metadata": {},
     "output_type": "execute_result"
    }
   ],
   "source": [
    "cal_many(\"sum\", 1,2,3,4,5)"
   ]
  },
  {
   "cell_type": "code",
   "execution_count": 109,
   "metadata": {},
   "outputs": [],
   "source": [
    "def summul(a, b):\n",
    "    return a+b, a*b"
   ]
  },
  {
   "cell_type": "code",
   "execution_count": 110,
   "metadata": {},
   "outputs": [
    {
     "name": "stdout",
     "output_type": "stream",
     "text": [
      "(6, 8)\n"
     ]
    }
   ],
   "source": [
    "print(summul(2, 4))"
   ]
  },
  {
   "cell_type": "code",
   "execution_count": 111,
   "metadata": {},
   "outputs": [
    {
     "name": "stdout",
     "output_type": "stream",
     "text": [
      "6\n",
      "8\n"
     ]
    }
   ],
   "source": [
    "result1, result2 = summul(2,4)\n",
    "print(result1)\n",
    "print(result2)"
   ]
  },
  {
   "cell_type": "code",
   "execution_count": 126,
   "metadata": {},
   "outputs": [
    {
     "name": "stdout",
     "output_type": "stream",
     "text": [
      "1993519328\n",
      "1993519328\n",
      "1993519360\n"
     ]
    }
   ],
   "source": [
    "#전역변수\n",
    "a = 1\n",
    "print(id(a))\n",
    "\n",
    "def vartest():\n",
    "    global a\n",
    "    print(id(a))\n",
    "    a = a + 1\n",
    "    print(id(a))\n",
    "    \n",
    "vartest()"
   ]
  },
  {
   "cell_type": "code",
   "execution_count": 127,
   "metadata": {},
   "outputs": [
    {
     "name": "stdout",
     "output_type": "stream",
     "text": [
      "1993519360\n",
      "2\n"
     ]
    }
   ],
   "source": [
    "\n",
    "print(id(a))\n",
    "print(a)"
   ]
  },
  {
   "cell_type": "code",
   "execution_count": null,
   "metadata": {},
   "outputs": [],
   "source": []
  },
  {
   "cell_type": "code",
   "execution_count": 1,
   "metadata": {},
   "outputs": [
    {
     "name": "stdout",
     "output_type": "stream",
     "text": [
      "버스를 탄다\n"
     ]
    }
   ],
   "source": [
    "#조건\n",
    "#돈이 3000원 이상 있거나 카드가 있으면 버스를 타고\n",
    "#그렇지 않으면 걸어 가라\n",
    "\n",
    "money = 2000\n",
    "card = 1\n",
    "if money >= 3000 or card:\n",
    "    print(\"버스를 탄다\")\n",
    "else:\n",
    "    print(\"슬프지만, 걸어간다.\")"
   ]
  },
  {
   "cell_type": "code",
   "execution_count": 5,
   "metadata": {},
   "outputs": [
    {
     "name": "stdout",
     "output_type": "stream",
     "text": [
      "버스를 탄다\n"
     ]
    }
   ],
   "source": [
    "#조건\n",
    "#주머니에 돈이 있으면 버스를 타고, 없으면 걸어가라\n",
    "\n",
    "pocket = [\"paper\", \"cellphone\", \"money\"]\n",
    "if \"money\" in pocket:\n",
    "    print(\"버스를 탄다\")\n",
    "else:\n",
    "    print(\"힘들지만, 걸어간다\")"
   ]
  },
  {
   "cell_type": "code",
   "execution_count": 18,
   "metadata": {},
   "outputs": [
    {
     "name": "stdout",
     "output_type": "stream",
     "text": [
      "1번\n",
      "2번\n",
      "3번\n",
      "4번\n",
      "5번\n",
      "6번\n",
      "7번\n",
      "8번\n",
      "9번\n",
      "10번\n",
      "나무를 쓰러트렸습니다.\n"
     ]
    }
   ],
   "source": [
    "#열번 찍으면 넘어가는 나무\n",
    "\n",
    "hit = 0\n",
    "while hit < 10:\n",
    "    hit = 1 + hit\n",
    "    print(f\"{hit}번\")\n",
    "    if hit == 10:\n",
    "        print(\"나무를 쓰러트렸습니다.\")"
   ]
  },
  {
   "cell_type": "code",
   "execution_count": 25,
   "metadata": {},
   "outputs": [
    {
     "name": "stdout",
     "output_type": "stream",
     "text": [
      "돈을 넣어 주세요: 200\n",
      "금액이 모자랍니다.\n",
      "\n",
      "돈을 넣어 주세요: 300\n",
      "커피나왔습니다.\n",
      "\n",
      "돈을 넣어 주세요: 1000\n",
      "거스름돈이 나옵니다. : 700원\n",
      "커피나왔습니다.\n",
      "\n",
      "돈을 넣어 주세요: 330\n",
      "거스름돈이 나옵니다. : 30원\n",
      "커피나왔습니다.\n",
      "\n",
      "오늘은 커피가 모두 팔렸습니다.\n"
     ]
    }
   ],
   "source": [
    "# 커피 자판기\n",
    "#커피는 300원이고, 300원 이상 받으면 거스름돈을 돌려줍니다.\n",
    "#커피를 판매하면 재고를 감소시키고\n",
    "#모든 재고가 소진되면 판매를 종료합니다.\n",
    "\n",
    "coffee = 3\n",
    "while coffee > 0:\n",
    "    money = int(input(\"돈을 넣어 주세요: \"))\n",
    "    if money < 300:\n",
    "        print(\"금액이 모자랍니다.\")\n",
    "    else:\n",
    "        coffee = coffee - 1\n",
    "        if money > 300:\n",
    "            print(f\"거스름돈이 나옵니다. : {money - 300}원\")\n",
    "        print(\"커피나왔습니다.\")\n",
    "    print()\n",
    "            \n",
    "print(\"오늘은 커피가 모두 팔렸습니다.\")"
   ]
  },
  {
   "cell_type": "code",
   "execution_count": 81,
   "metadata": {},
   "outputs": [
    {
     "name": "stdout",
     "output_type": "stream",
     "text": [
      "                 1  2\n",
      "  3  4  5  6  7  8  9\n",
      " 10 11 12 13 14 15 16\n",
      " 17 18 19 20 21 22 23\n",
      " 24 25 26 27 28 29"
     ]
    }
   ],
   "source": [
    "#달력 출력\n",
    "month = [31]\n",
    "start = 5\n",
    "\n",
    "days = [0, 1, 2, 3, 4, 5, 6]\n",
    "\n",
    "for i in range(1, month[0]+1):\n",
    "    if i is 1:\n",
    "        print(\"   \"*start, end = '')\n",
    "    print(f\"{i:3}\", end = '')\n",
    "    \n",
    "    if start == 0:\n",
    "        start = 7\n",
    "    if i % 7 == 7-start:\n",
    "        print()"
   ]
  }
 ],
 "metadata": {
  "kernelspec": {
   "display_name": "Python 3",
   "language": "python",
   "name": "python3"
  },
  "language_info": {
   "codemirror_mode": {
    "name": "ipython",
    "version": 3
   },
   "file_extension": ".py",
   "mimetype": "text/x-python",
   "name": "python",
   "nbconvert_exporter": "python",
   "pygments_lexer": "ipython3",
   "version": "3.6.10"
  }
 },
 "nbformat": 4,
 "nbformat_minor": 4
}
