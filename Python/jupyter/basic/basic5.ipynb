{
 "cells": [
  {
   "cell_type": "code",
   "execution_count": 1,
   "metadata": {},
   "outputs": [],
   "source": [
    "#내장 함수"
   ]
  },
  {
   "cell_type": "code",
   "execution_count": 2,
   "metadata": {},
   "outputs": [
    {
     "data": {
      "text/plain": [
       "1.2"
      ]
     },
     "execution_count": 2,
     "metadata": {},
     "output_type": "execute_result"
    }
   ],
   "source": [
    "abs(-1.2)"
   ]
  },
  {
   "cell_type": "code",
   "execution_count": 6,
   "metadata": {},
   "outputs": [
    {
     "data": {
      "text/plain": [
       "True"
      ]
     },
     "execution_count": 6,
     "metadata": {},
     "output_type": "execute_result"
    }
   ],
   "source": [
    "#모두 참이면 True\n",
    "all([1,2,3])"
   ]
  },
  {
   "cell_type": "code",
   "execution_count": 7,
   "metadata": {},
   "outputs": [
    {
     "data": {
      "text/plain": [
       "False"
      ]
     },
     "execution_count": 7,
     "metadata": {},
     "output_type": "execute_result"
    }
   ],
   "source": [
    "all([1,2,3,0])"
   ]
  },
  {
   "cell_type": "code",
   "execution_count": 5,
   "metadata": {},
   "outputs": [
    {
     "data": {
      "text/plain": [
       "True"
      ]
     },
     "execution_count": 5,
     "metadata": {},
     "output_type": "execute_result"
    }
   ],
   "source": [
    "# 하나라도 참이 있을 경우 True\n",
    "any([1,2,3,0])"
   ]
  },
  {
   "cell_type": "code",
   "execution_count": 8,
   "metadata": {},
   "outputs": [
    {
     "data": {
      "text/plain": [
       "(2, 1)"
      ]
     },
     "execution_count": 8,
     "metadata": {},
     "output_type": "execute_result"
    }
   ],
   "source": [
    "# 몫과 나머지\n",
    "divmod(7, 3)"
   ]
  },
  {
   "cell_type": "code",
   "execution_count": 9,
   "metadata": {},
   "outputs": [
    {
     "data": {
      "text/plain": [
       "'0x3'"
      ]
     },
     "execution_count": 9,
     "metadata": {},
     "output_type": "execute_result"
    }
   ],
   "source": [
    "#16진수로\n",
    "hex(3)"
   ]
  },
  {
   "cell_type": "code",
   "execution_count": 10,
   "metadata": {},
   "outputs": [
    {
     "data": {
      "text/plain": [
       "'0b11'"
      ]
     },
     "execution_count": 10,
     "metadata": {},
     "output_type": "execute_result"
    }
   ],
   "source": [
    "#2진수로\n",
    "bin(3)"
   ]
  },
  {
   "cell_type": "code",
   "execution_count": 11,
   "metadata": {},
   "outputs": [
    {
     "data": {
      "text/plain": [
       "'0o3'"
      ]
     },
     "execution_count": 11,
     "metadata": {},
     "output_type": "execute_result"
    }
   ],
   "source": [
    "#8진수로\n",
    "oct(3)"
   ]
  },
  {
   "cell_type": "code",
   "execution_count": 16,
   "metadata": {},
   "outputs": [
    {
     "data": {
      "text/plain": [
       "3"
      ]
     },
     "execution_count": 16,
     "metadata": {},
     "output_type": "execute_result"
    }
   ],
   "source": [
    "max([1,2,3])"
   ]
  },
  {
   "cell_type": "code",
   "execution_count": 19,
   "metadata": {},
   "outputs": [
    {
     "data": {
      "text/plain": [
       "1"
      ]
     },
     "execution_count": 19,
     "metadata": {},
     "output_type": "execute_result"
    }
   ],
   "source": [
    "min([1,2,3])"
   ]
  },
  {
   "cell_type": "code",
   "execution_count": 20,
   "metadata": {},
   "outputs": [
    {
     "data": {
      "text/plain": [
       "27"
      ]
     },
     "execution_count": 20,
     "metadata": {},
     "output_type": "execute_result"
    }
   ],
   "source": [
    "pow(3, 3)"
   ]
  },
  {
   "cell_type": "code",
   "execution_count": 12,
   "metadata": {},
   "outputs": [
    {
     "data": {
      "text/plain": [
       "1993519392"
      ]
     },
     "execution_count": 12,
     "metadata": {},
     "output_type": "execute_result"
    }
   ],
   "source": [
    "id(3) #참조값"
   ]
  },
  {
   "cell_type": "code",
   "execution_count": 13,
   "metadata": {},
   "outputs": [
    {
     "data": {
      "text/plain": [
       "True"
      ]
     },
     "execution_count": 13,
     "metadata": {},
     "output_type": "execute_result"
    }
   ],
   "source": [
    "class Person: pass\n",
    "a = Person()\n",
    "# 해당 인스턴스가 클래스의 인스턴스인지를 판단하여 참이면 True\n",
    "isinstance(a, Person) "
   ]
  },
  {
   "cell_type": "code",
   "execution_count": 14,
   "metadata": {},
   "outputs": [
    {
     "data": {
      "text/plain": [
       "3"
      ]
     },
     "execution_count": 14,
     "metadata": {},
     "output_type": "execute_result"
    }
   ],
   "source": [
    "#크기\n",
    "len([1,2,3])"
   ]
  },
  {
   "cell_type": "code",
   "execution_count": 15,
   "metadata": {},
   "outputs": [
    {
     "data": {
      "text/plain": [
       "['p', 'y', 't', 'h', 'o', 'n']"
      ]
     },
     "execution_count": 15,
     "metadata": {},
     "output_type": "execute_result"
    }
   ],
   "source": [
    "#리스트로\n",
    "list(\"python\")"
   ]
  },
  {
   "cell_type": "code",
   "execution_count": 21,
   "metadata": {},
   "outputs": [
    {
     "data": {
      "text/plain": [
       "[0, 1, 2, 3, 4]"
      ]
     },
     "execution_count": 21,
     "metadata": {},
     "output_type": "execute_result"
    }
   ],
   "source": [
    "list(range(5))"
   ]
  },
  {
   "cell_type": "code",
   "execution_count": 22,
   "metadata": {},
   "outputs": [
    {
     "data": {
      "text/plain": [
       "[5, 7, 9]"
      ]
     },
     "execution_count": 22,
     "metadata": {},
     "output_type": "execute_result"
    }
   ],
   "source": [
    "list(range(5, 10, 2))"
   ]
  },
  {
   "cell_type": "code",
   "execution_count": 23,
   "metadata": {},
   "outputs": [
    {
     "data": {
      "text/plain": [
       "['a', 'e', 'o', 'r', 'z']"
      ]
     },
     "execution_count": 23,
     "metadata": {},
     "output_type": "execute_result"
    }
   ],
   "source": [
    "a= sorted(\"zeroa\")\n",
    "a"
   ]
  },
  {
   "cell_type": "code",
   "execution_count": null,
   "metadata": {},
   "outputs": [],
   "source": [
    "#파일 읽기(rb : read binary)\n",
    "f = open(\"bin_file\", \"rb\")\n",
    "#a : 덮어쓰기, w : 쓰기\n",
    "fappend = open(\"append_mode.txt\", \"a\")"
   ]
  },
  {
   "cell_type": "code",
   "execution_count": 18,
   "metadata": {},
   "outputs": [
    {
     "data": {
      "text/plain": [
       "10"
      ]
     },
     "execution_count": 18,
     "metadata": {},
     "output_type": "execute_result"
    }
   ],
   "source": [
    "sum = lambda a, b: a+b\n",
    "sum(3,7)"
   ]
  },
  {
   "cell_type": "code",
   "execution_count": 25,
   "metadata": {},
   "outputs": [
    {
     "data": {
      "text/plain": [
       "[('a', 'd'), ('b', 'e'), ('c', 'f')]"
      ]
     },
     "execution_count": 25,
     "metadata": {},
     "output_type": "execute_result"
    }
   ],
   "source": [
    "#zip으로 묶어서 list로 \n",
    "list(zip(\"abc\", \"def\"))"
   ]
  },
  {
   "cell_type": "code",
   "execution_count": 30,
   "metadata": {},
   "outputs": [
    {
     "name": "stdout",
     "output_type": "stream",
     "text": [
      "C:\\base\\Anaconda3\\envs\\venv\n",
      "C:\\base\\Anaconda3\\envs\\venv\\Library\\mingw-w64\\bin\n",
      "C:\\base\\Anaconda3\\envs\\venv\\Library\\usr\\bin\n",
      "C:\\base\\Anaconda3\\envs\\venv\\Library\\bin\n",
      "C:\\base\\Anaconda3\\envs\\venv\\Scripts\n",
      "C:\\base\\Anaconda3\\envs\\venv\\bin\n",
      "C:\\base\\Anaconda3\\condabin\n",
      "C:\\base\\Python36\\Scripts\n",
      "C:\\base\\Python36\n",
      "C:\\base\\oraclexe\\app\\oracle\\product\\11.2.0\\server\\bin\n",
      ".\n",
      "C:\\Program Files (x86)\\Common Files\\Oracle\\Java\\javapath\n",
      "C:\\Windows\\system32\n",
      "C:\\Windows\n",
      "C:\\Windows\\System32\\Wbem\n",
      "C:\\Windows\\System32\\WindowsPowerShell\\v1.0\n",
      "C:\\Windows\\System32\\OpenSSH\n",
      "C:\\base\\Git\\cmd\n",
      "C:\\Users\\wnnah\\AppData\\Local\\Microsoft\\WindowsApps\n",
      ".\n",
      "C:\\base\\JetBrains\\IntelliJ IDEA 2021.2\\bin\n",
      ".\n",
      "C:\\base\\Microsoft VS Code\\bin\n"
     ]
    }
   ],
   "source": [
    "import os\n",
    "plist = os.environ['PATH'].split(';')\n",
    "for i in plist:\n",
    "    print(i)"
   ]
  },
  {
   "cell_type": "code",
   "execution_count": 39,
   "metadata": {},
   "outputs": [
    {
     "data": {
      "text/plain": [
       "'C:\\\\'"
      ]
     },
     "execution_count": 39,
     "metadata": {},
     "output_type": "execute_result"
    }
   ],
   "source": [
    "#현재 디렉토리\n",
    "os.getcwd()"
   ]
  },
  {
   "cell_type": "code",
   "execution_count": 40,
   "metadata": {},
   "outputs": [
    {
     "data": {
      "text/plain": [
       "'c:\\\\KhAPI'"
      ]
     },
     "execution_count": 40,
     "metadata": {},
     "output_type": "execute_result"
    }
   ],
   "source": [
    "#디렉토리 변경\n",
    "os.chdir(\"c:/KhAPI\")\n",
    "os.getcwd()"
   ]
  },
  {
   "cell_type": "code",
   "execution_count": 42,
   "metadata": {},
   "outputs": [
    {
     "data": {
      "text/plain": [
       "0"
      ]
     },
     "execution_count": 42,
     "metadata": {},
     "output_type": "execute_result"
    }
   ],
   "source": [
    "#시스템 명령을 실행\n",
    "os.system(\"mkdir bbb\")"
   ]
  },
  {
   "cell_type": "code",
   "execution_count": 43,
   "metadata": {},
   "outputs": [
    {
     "name": "stdout",
     "output_type": "stream",
     "text": [
      " C 드라이브의 볼륨에는 이름이 없습니다.\n",
      " 볼륨 일련 번호: 76F5-3EDB\n",
      "\n",
      " c:\\KhAPI 디렉터리\n",
      "\n",
      "2022-01-14  오후 06:12    <DIR>          .\n",
      "2022-01-14  오후 06:12    <DIR>          ..\n",
      "2022-01-14  오후 06:12    <DIR>          aaa\n",
      "2022-01-14  오후 06:11    <DIR>          bbb\n",
      "2022-01-13  오후 06:06    <DIR>          corpcode\n",
      "2022-01-13  오후 05:01    <DIR>          data\n",
      "2021-12-31  오후 04:35    <DIR>          KhOpenApiTest_2.71\n",
      "2021-12-31  오후 04:36    <DIR>          KOAStudioSA\n",
      "2021-12-31  오후 04:36    <DIR>          OpenAPI\n",
      "2022-01-13  오후 05:14    <DIR>          Python\n",
      "2021-12-31  오후 04:37    <DIR>          설치파일\n",
      "               0개 파일                   0 바이트\n",
      "              11개 디렉터리  130,836,135,936 바이트 남음\n",
      "\n"
     ]
    }
   ],
   "source": [
    "#시스템 명령 실행 경과를 파일 객체로 리턴\n",
    "f = os.popen(\"dir\")\n",
    "print(f.read())"
   ]
  },
  {
   "cell_type": "code",
   "execution_count": 64,
   "metadata": {},
   "outputs": [],
   "source": [
    "os.mkdir(\"ccc\")"
   ]
  },
  {
   "cell_type": "code",
   "execution_count": 45,
   "metadata": {},
   "outputs": [],
   "source": [
    "#삭제 방법1\n",
    "os.rmdir(\"aaa\")"
   ]
  },
  {
   "cell_type": "code",
   "execution_count": 47,
   "metadata": {},
   "outputs": [],
   "source": [
    "#삭제 방법2\n",
    "import shutil\n",
    "shutil.rmtree(\"c:/KhAPI/bbb\", ignore_errors=True)"
   ]
  },
  {
   "cell_type": "code",
   "execution_count": 48,
   "metadata": {},
   "outputs": [
    {
     "name": "stdout",
     "output_type": "stream",
     "text": [
      " C 드라이브의 볼륨에는 이름이 없습니다.\n",
      " 볼륨 일련 번호: 76F5-3EDB\n",
      "\n",
      " c:\\KhAPI 디렉터리\n",
      "\n",
      "2022-01-14  오후 06:18    <DIR>          .\n",
      "2022-01-14  오후 06:18    <DIR>          ..\n",
      "2022-01-14  오후 06:14    <DIR>          ccc\n",
      "2022-01-13  오후 06:06    <DIR>          corpcode\n",
      "2022-01-13  오후 05:01    <DIR>          data\n",
      "2021-12-31  오후 04:35    <DIR>          KhOpenApiTest_2.71\n",
      "2021-12-31  오후 04:36    <DIR>          KOAStudioSA\n",
      "2021-12-31  오후 04:36    <DIR>          OpenAPI\n",
      "2022-01-13  오후 05:14    <DIR>          Python\n",
      "2021-12-31  오후 04:37    <DIR>          설치파일\n",
      "               0개 파일                   0 바이트\n",
      "              10개 디렉터리  130,960,150,528 바이트 남음\n",
      "\n"
     ]
    }
   ],
   "source": [
    "f = os.popen(\"dir\")\n",
    "print(f.read())"
   ]
  },
  {
   "cell_type": "code",
   "execution_count": 65,
   "metadata": {},
   "outputs": [
    {
     "name": "stdout",
     "output_type": "stream",
     "text": [
      "예외 발생. 폴더를 찾을 수 없습니다.\n"
     ]
    }
   ],
   "source": [
    "#삭제 함수\n",
    "def remove_folder(path):\n",
    "    try:\n",
    "        if os.path.exists(path):\n",
    "            shutil.rmtree(path)\n",
    "            print(path,\" 삭제 성공\")\n",
    "        else:\n",
    "             raise Exception(\"폴더를 찾을 수 없습니다.\")\n",
    "    except Exception as e:\n",
    "        print(\"예외 발생.\", e)\n",
    "remove_folder(\"/folder_name\")"
   ]
  },
  {
   "cell_type": "code",
   "execution_count": 66,
   "metadata": {},
   "outputs": [
    {
     "name": "stdout",
     "output_type": "stream",
     "text": [
      "c:\\KhAPI\\ccc  삭제 성공\n"
     ]
    }
   ],
   "source": [
    "remove_folder(\"c:\\KhAPI\\ccc\")"
   ]
  },
  {
   "cell_type": "code",
   "execution_count": 71,
   "metadata": {},
   "outputs": [
    {
     "name": "stdout",
     "output_type": "stream",
     "text": [
      " C 드라이브의 볼륨에는 이름이 없습니다.\n",
      " 볼륨 일련 번호: 76F5-3EDB\n",
      "\n",
      " c:\\KhAPI 디렉터리\n",
      "\n",
      "2022-01-14  오후 06:33    <DIR>          .\n",
      "2022-01-14  오후 06:33    <DIR>          ..\n",
      "2022-01-13  오후 06:06    <DIR>          corpcode\n",
      "2022-01-13  오후 05:01    <DIR>          data\n",
      "2021-12-31  오후 04:35    <DIR>          KhOpenApiTest_2.71\n",
      "2021-12-31  오후 04:36    <DIR>          KOAStudioSA\n",
      "2021-12-31  오후 04:36    <DIR>          OpenAPI\n",
      "2022-01-13  오후 05:14    <DIR>          Python\n",
      "2022-01-14  오후 06:33                 0 새 텍스트 문서.txt\n",
      "2021-12-31  오후 04:37    <DIR>          설치파일\n",
      "               1개 파일                   0 바이트\n",
      "               9개 디렉터리  130,951,524,352 바이트 남음\n",
      "\n"
     ]
    }
   ],
   "source": [
    "f = os.popen(\"dir\")\n",
    "print(f.read())"
   ]
  },
  {
   "cell_type": "code",
   "execution_count": 72,
   "metadata": {},
   "outputs": [
    {
     "name": "stdout",
     "output_type": "stream",
     "text": [
      " C 드라이브의 볼륨에는 이름이 없습니다.\n",
      " 볼륨 일련 번호: 76F5-3EDB\n",
      "\n",
      " c:\\KhAPI 디렉터리\n",
      "\n",
      "2022-01-14  오후 06:34    <DIR>          .\n",
      "2022-01-14  오후 06:34    <DIR>          ..\n",
      "2022-01-13  오후 06:06    <DIR>          corpcode\n",
      "2022-01-13  오후 05:01    <DIR>          data\n",
      "2022-01-14  오후 06:33                 0 ex.txt\n",
      "2021-12-31  오후 04:35    <DIR>          KhOpenApiTest_2.71\n",
      "2021-12-31  오후 04:36    <DIR>          KOAStudioSA\n",
      "2021-12-31  오후 04:36    <DIR>          OpenAPI\n",
      "2022-01-13  오후 05:14    <DIR>          Python\n",
      "2021-12-31  오후 04:37    <DIR>          설치파일\n",
      "               1개 파일                   0 바이트\n",
      "               9개 디렉터리  130,951,376,896 바이트 남음\n",
      "\n"
     ]
    }
   ],
   "source": [
    "#이름 변경\n",
    "os.rename(\"새 텍스트 문서.txt\", \"ex.txt\")\n",
    "\n",
    "f = os.popen(\"dir\")\n",
    "print(f.read())"
   ]
  },
  {
   "cell_type": "code",
   "execution_count": 75,
   "metadata": {},
   "outputs": [
    {
     "name": "stdout",
     "output_type": "stream",
     "text": [
      " C 드라이브의 볼륨에는 이름이 없습니다.\n",
      " 볼륨 일련 번호: 76F5-3EDB\n",
      "\n",
      " c:\\KhAPI 디렉터리\n",
      "\n",
      "2022-01-14  오후 06:35    <DIR>          .\n",
      "2022-01-14  오후 06:35    <DIR>          ..\n",
      "2022-01-13  오후 06:06    <DIR>          corpcode\n",
      "2022-01-13  오후 05:01    <DIR>          data\n",
      "2022-01-14  오후 06:33                 0 ex.txt\n",
      "2022-01-14  오후 06:35                 0 ex2.txt\n",
      "2021-12-31  오후 04:35    <DIR>          KhOpenApiTest_2.71\n",
      "2021-12-31  오후 04:36    <DIR>          KOAStudioSA\n",
      "2021-12-31  오후 04:36    <DIR>          OpenAPI\n",
      "2022-01-13  오후 05:14    <DIR>          Python\n",
      "2021-12-31  오후 04:37    <DIR>          설치파일\n",
      "               2개 파일                   0 바이트\n",
      "               9개 디렉터리  130,955,550,720 바이트 남음\n",
      "\n"
     ]
    }
   ],
   "source": [
    "#파일 복사\n",
    "shutil.copy(\"ex.txt\", \"ex2.txt\")\n",
    "f = os.popen(\"dir\")\n",
    "print(f.read())"
   ]
  },
  {
   "cell_type": "code",
   "execution_count": 80,
   "metadata": {},
   "outputs": [
    {
     "data": {
      "text/plain": [
       "['C:\\\\KhAPI\\\\Python\\\\__init__.py']"
      ]
     },
     "execution_count": 80,
     "metadata": {},
     "output_type": "execute_result"
    }
   ],
   "source": [
    "import glob\n",
    "glob.glob(\"C:\\\\KhAPI\\\\Python\\\\*.py\")"
   ]
  },
  {
   "cell_type": "code",
   "execution_count": 84,
   "metadata": {},
   "outputs": [
    {
     "name": "stdout",
     "output_type": "stream",
     "text": [
      "with code\n"
     ]
    }
   ],
   "source": [
    "# with ~ as \n",
    "# .close()를 자동 실행\n",
    "\n",
    "with open(\"ex.txt\", \"w\") as file:\n",
    "    file.write(\"with code\")\n",
    "    \n",
    "with open(\"ex.txt\", \"r\") as r:\n",
    "    print(r.read())"
   ]
  },
  {
   "cell_type": "code",
   "execution_count": 87,
   "metadata": {},
   "outputs": [
    {
     "data": {
      "text/plain": [
       "''"
      ]
     },
     "execution_count": 87,
     "metadata": {},
     "output_type": "execute_result"
    }
   ],
   "source": [
    "\"\"\"\n",
    "with문을 활용한 소켓 프로그레밍\n",
    "with socket.socket(socket.AF_INET, socket.SOCK_STREAM) as s:\n",
    "    s.bind(ADDR)      # address binding\n",
    "    s.listen()      # listen\n",
    "    while True:\n",
    "        c_socket, c_addr = s.accept()\n",
    "        msg = c_socket.recv(SIZE)\n",
    "        print(\"from : {}  message : {}\".format(c_addr,msg))\n",
    "        c_socket.sendall(\"Hello!\".encode())\n",
    "        c_socket.close()\n",
    "        \"\"\"\n",
    "\"\""
   ]
  },
  {
   "cell_type": "code",
   "execution_count": 88,
   "metadata": {},
   "outputs": [
    {
     "name": "stdout",
     "output_type": "stream",
     "text": [
      "초기화 메서드\n",
      "메소드 호출 테스트\n",
      "with을 통해 종료\n"
     ]
    }
   ],
   "source": [
    "class ex:\n",
    "    #초기화 메서드 정의\n",
    "    def __init__(self):\n",
    "        self.temp = \"초기화 메서드\"\n",
    "        \n",
    "    #객체가 호출될 때 자동으로 실행\n",
    "    def __enter__(self):\n",
    "        print(self.temp)\n",
    "        return self #반환값이 있어야 variable을 블록 내에서 사용할 수 있다.\n",
    "    \n",
    "    def printText(self):\n",
    "        print(\"메소드 호출 테스트\")\n",
    "        #with 구문을 통해 객체가 종료될 때 자동으로 실행\n",
    "    def __exit__(self, exc_type, exc_val, exc_tb):\n",
    "        #종료 구문 설정하기(세션의 종료 등)\n",
    "        print('with을 통해 종료')\n",
    "        \n",
    "#객체 생성 및 with 구문 실행\n",
    "if __name__ == \"__main__\":\n",
    "    withclass = ex()\n",
    "    \n",
    "    with withclass as wc:\n",
    "        wc.printText()"
   ]
  },
  {
   "cell_type": "code",
   "execution_count": null,
   "metadata": {},
   "outputs": [],
   "source": []
  }
 ],
 "metadata": {
  "kernelspec": {
   "display_name": "Python 3",
   "language": "python",
   "name": "python3"
  },
  "language_info": {
   "codemirror_mode": {
    "name": "ipython",
    "version": 3
   },
   "file_extension": ".py",
   "mimetype": "text/x-python",
   "name": "python",
   "nbconvert_exporter": "python",
   "pygments_lexer": "ipython3",
   "version": "3.6.10"
  }
 },
 "nbformat": 4,
 "nbformat_minor": 4
}
