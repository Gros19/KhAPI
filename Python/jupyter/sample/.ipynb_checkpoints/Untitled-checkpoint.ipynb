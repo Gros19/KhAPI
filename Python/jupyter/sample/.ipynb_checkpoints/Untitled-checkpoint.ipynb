{
 "cells": [
  {
   "cell_type": "code",
   "execution_count": 3,
   "metadata": {},
   "outputs": [],
   "source": [
    "from  urllib.request import urlopen\n",
    "import xml.etree.ElementTree as ET\n",
    "import zipfile\n",
    "import io\n",
    "import os, sys\n",
    "import pandas as pd"
   ]
  },
  {
   "cell_type": "code",
   "execution_count": 4,
   "metadata": {},
   "outputs": [
    {
     "name": "stdout",
     "output_type": "stream",
     "text": [
      "회사코드 저장 경로:  c:\\KhAPI\\data\\dart\\corpcode\n"
     ]
    }
   ],
   "source": [
    "\n",
    "FILENAME = \"\"\n",
    "\n",
    "\n",
    "saveFileDir = \"c:\\KhAPI\\data\\dart\\corpcode\";\n",
    "print(\"회사코드 저장 경로: \", saveFileDir)\n",
    "\n",
    "API_KEY = \"발급한 API 키를 입력하세요\"\n",
    "\n",
    "def down_corp_codeXML(API_KEY, saveFileDir):\n",
    "    url = \"https://opendart.fss.or.kr/api/corpCode.xml?crtfc_key=\"\n",
    "    with urlopen(url+API_KEY) as zipresp:\n",
    "        with io.BytesIO(zipresp.read()) as ioB:\n",
    "            with zipfile.ZipFile(ioB) as zip:\n",
    "                zip.extractall(saveFileDir)\n",
    " "
   ]
  },
  {
   "cell_type": "code",
   "execution_count": 13,
   "metadata": {},
   "outputs": [],
   "source": [
    "#     <CORPCODE.xml>\n",
    "#     <result>\n",
    "#         <list>\n",
    "#             <corp_code>00434003</corp_code>\n",
    "#             <corp_name>다코</corp_name>\n",
    "#             <stock_code> </stock_code>\n",
    "#             <modify_date>20170630</modify_date>\n",
    "#         </list>\n",
    "#         <list>\n",
    "#             <corp_code>00434456</corp_code>\n",
    "#             <corp_name>일산약품</corp_name>\n",
    "#             <stock_code> </stock_code>\n",
    "#             <modify_date>20170630</modify_date>\n",
    "#         </list>\n",
    "#         <list>\n",
    "#             <corp_code>00430964</corp_code>\n",
    "#             <corp_name>굿앤엘에스</corp_name>\n",
    "#             <stock_code> </stock_code>\n",
    "#             <modify_date>20170630</modify_date>\n",
    "#         </list>\n",
    "#     </result>\n",
    "\n",
    "\n",
    "\n",
    "\n",
    "def parse_corp_code(saveFileDir):\n",
    "    a = []\n",
    "    b = []\n",
    "    c = []\n",
    "    \n",
    "    xml_file = f\"{saveFileDir}\\CORPCODE.xml\"\n",
    "    print(xml_file)\n",
    "    doc = ET.parse(xml_file).getroot()\n",
    "    list_tg = doc.findall(\"list\")\n",
    "\n",
    "    \n",
    "    for i in list_tg:\n",
    "        # if i.find(\"stock_code\").text != \" \":\n",
    "        #     print(i.find(\"stock_code\").text)\n",
    "        a.append(i.find(\"corp_code\").text)\n",
    "        c.append(i.find(\"corp_name\").text)\n",
    "        if i.find(\"stock_code\").text == \" \":\n",
    "            b.append(\"99999999\")\n",
    "        else:\n",
    "            b.append(i.find(\"stock_code\").text)\n",
    "            \n",
    "    res = [a, b, c]\n",
    "    return res  \n"
   ]
  },
  {
   "cell_type": "code",
   "execution_count": 14,
   "metadata": {},
   "outputs": [
    {
     "name": "stdout",
     "output_type": "stream",
     "text": [
      "c:\\KhAPI\\data\\dart\\corpcode\\CORPCODE.xml\n",
      "89402    99999999\n",
      "89403    99999999\n",
      "89404    99999999\n",
      "89405    99999999\n",
      "89406    99999999\n",
      "Name: stock_code, dtype: object\n"
     ]
    }
   ],
   "source": [
    "abc = parse_corp_code(saveFileDir)\n",
    "res = {\"corp_code\": abc[0], \"stock_code\":abc[1], \"corp_name\":abc[2]}"
   ]
  },
  {
   "cell_type": "code",
   "execution_count": 15,
   "metadata": {},
   "outputs": [
    {
     "name": "stdout",
     "output_type": "stream",
     "text": [
      "89402    99999999\n",
      "89403    99999999\n",
      "89404    99999999\n",
      "89405    99999999\n",
      "89406    99999999\n",
      "Name: stock_code, dtype: object\n"
     ]
    }
   ],
   "source": [
    "p1 = pd.DataFrame(res)"
   ]
  },
  {
   "cell_type": "code",
   "execution_count": 16,
   "metadata": {},
   "outputs": [
    {
     "data": {
      "text/plain": [
       "89402    99999999\n",
       "89403    99999999\n",
       "89404    99999999\n",
       "89405    99999999\n",
       "89406    99999999\n",
       "Name: stock_code, dtype: object"
      ]
     },
     "execution_count": 16,
     "metadata": {},
     "output_type": "execute_result"
    }
   ],
   "source": [
    "p1['stock_code'].tail()"
   ]
  },
  {
   "cell_type": "code",
   "execution_count": 18,
   "metadata": {},
   "outputs": [
    {
     "data": {
      "text/plain": [
       "0    99999999\n",
       "1    99999999\n",
       "2    99999999\n",
       "3    99999999\n",
       "4    99999999\n",
       "Name: stock_code, dtype: object"
      ]
     },
     "execution_count": 18,
     "metadata": {},
     "output_type": "execute_result"
    }
   ],
   "source": [
    "p1['stock_code'].head()"
   ]
  },
  {
   "cell_type": "code",
   "execution_count": 54,
   "metadata": {},
   "outputs": [],
   "source": [
    "reidx = p1.set_index('stock_code').sort_index()"
   ]
  },
  {
   "cell_type": "code",
   "execution_count": 55,
   "metadata": {},
   "outputs": [
    {
     "data": {
      "text/html": [
       "<div>\n",
       "<style scoped>\n",
       "    .dataframe tbody tr th:only-of-type {\n",
       "        vertical-align: middle;\n",
       "    }\n",
       "\n",
       "    .dataframe tbody tr th {\n",
       "        vertical-align: top;\n",
       "    }\n",
       "\n",
       "    .dataframe thead th {\n",
       "        text-align: right;\n",
       "    }\n",
       "</style>\n",
       "<table border=\"1\" class=\"dataframe\">\n",
       "  <thead>\n",
       "    <tr style=\"text-align: right;\">\n",
       "      <th></th>\n",
       "      <th>corp_code</th>\n",
       "      <th>corp_name</th>\n",
       "    </tr>\n",
       "    <tr>\n",
       "      <th>stock_code</th>\n",
       "      <th></th>\n",
       "      <th></th>\n",
       "    </tr>\n",
       "  </thead>\n",
       "  <tbody>\n",
       "    <tr>\n",
       "      <th>000010</th>\n",
       "      <td>00149293</td>\n",
       "      <td>신한은행</td>\n",
       "    </tr>\n",
       "    <tr>\n",
       "      <th>000020</th>\n",
       "      <td>00119195</td>\n",
       "      <td>동화약품</td>\n",
       "    </tr>\n",
       "    <tr>\n",
       "      <th>000030</th>\n",
       "      <td>00254045</td>\n",
       "      <td>우리은행</td>\n",
       "    </tr>\n",
       "    <tr>\n",
       "      <th>000040</th>\n",
       "      <td>00112378</td>\n",
       "      <td>KR모터스</td>\n",
       "    </tr>\n",
       "    <tr>\n",
       "      <th>000050</th>\n",
       "      <td>00101628</td>\n",
       "      <td>경방</td>\n",
       "    </tr>\n",
       "    <tr>\n",
       "      <th>...</th>\n",
       "      <td>...</td>\n",
       "      <td>...</td>\n",
       "    </tr>\n",
       "    <tr>\n",
       "      <th>99999999</th>\n",
       "      <td>00760494</td>\n",
       "      <td>얼라이언스번스틴</td>\n",
       "    </tr>\n",
       "    <tr>\n",
       "      <th>99999999</th>\n",
       "      <td>00760485</td>\n",
       "      <td>얼라이언스번스틴시카브</td>\n",
       "    </tr>\n",
       "    <tr>\n",
       "      <th>99999999</th>\n",
       "      <td>01126378</td>\n",
       "      <td>래피드플랜트제팔차</td>\n",
       "    </tr>\n",
       "    <tr>\n",
       "      <th>99999999</th>\n",
       "      <td>01132616</td>\n",
       "      <td>비디에스에프제칠차</td>\n",
       "    </tr>\n",
       "    <tr>\n",
       "      <th>99999999</th>\n",
       "      <td>01368761</td>\n",
       "      <td>엔브이에이치원방테크</td>\n",
       "    </tr>\n",
       "  </tbody>\n",
       "</table>\n",
       "<p>89407 rows × 2 columns</p>\n",
       "</div>"
      ],
      "text/plain": [
       "           corp_code    corp_name\n",
       "stock_code                       \n",
       "000010      00149293         신한은행\n",
       "000020      00119195         동화약품\n",
       "000030      00254045         우리은행\n",
       "000040      00112378        KR모터스\n",
       "000050      00101628           경방\n",
       "...              ...          ...\n",
       "99999999    00760494     얼라이언스번스틴\n",
       "99999999    00760485  얼라이언스번스틴시카브\n",
       "99999999    01126378    래피드플랜트제팔차\n",
       "99999999    01132616    비디에스에프제칠차\n",
       "99999999    01368761   엔브이에이치원방테크\n",
       "\n",
       "[89407 rows x 2 columns]"
      ]
     },
     "execution_count": 55,
     "metadata": {},
     "output_type": "execute_result"
    }
   ],
   "source": [
    "reidx[:]"
   ]
  },
  {
   "cell_type": "code",
   "execution_count": 60,
   "metadata": {},
   "outputs": [
    {
     "name": "stdout",
     "output_type": "stream",
     "text": [
      "           corp_code  corp_name\n",
      "stock_code                     \n",
      "000010      00149293       신한은행\n",
      "000020      00119195       동화약품\n",
      "000030      00254045       우리은행\n",
      "000040      00112378      KR모터스\n",
      "000050      00101628         경방\n",
      "...              ...        ...\n",
      "039530      00252755  씨앤케이인터내셔널\n",
      "039560      00268251     다산네트웍스\n",
      "039570      00350312      HDC랩스\n",
      "039580      00264185      피코소프트\n",
      "039610      00217743       화성밸브\n",
      "\n",
      "[1200 rows x 2 columns]\n"
     ]
    }
   ],
   "source": [
    "print(reidx.loc[:\"99999998\"][:1200])"
   ]
  },
  {
   "cell_type": "code",
   "execution_count": 53,
   "metadata": {},
   "outputs": [
    {
     "ename": "AttributeError",
     "evalue": "'DataFrame' object has no attribute 'sort'",
     "output_type": "error",
     "traceback": [
      "\u001b[1;31m---------------------------------------------------------------------------\u001b[0m",
      "\u001b[1;31mAttributeError\u001b[0m                            Traceback (most recent call last)",
      "\u001b[1;32m<ipython-input-53-44098f4f9d5d>\u001b[0m in \u001b[0;36m<module>\u001b[1;34m\u001b[0m\n\u001b[1;32m----> 1\u001b[1;33m \u001b[0mreidx\u001b[0m\u001b[1;33m.\u001b[0m\u001b[0msort\u001b[0m\u001b[1;33m(\u001b[0m\u001b[1;33m)\u001b[0m\u001b[1;33m\u001b[0m\u001b[1;33m\u001b[0m\u001b[0m\n\u001b[0m",
      "\u001b[1;32mC:\\base\\Anaconda3\\envs\\venv\\lib\\site-packages\\pandas\\core\\generic.py\u001b[0m in \u001b[0;36m__getattr__\u001b[1;34m(self, name)\u001b[0m\n\u001b[0;32m   5272\u001b[0m             \u001b[1;32mif\u001b[0m \u001b[0mself\u001b[0m\u001b[1;33m.\u001b[0m\u001b[0m_info_axis\u001b[0m\u001b[1;33m.\u001b[0m\u001b[0m_can_hold_identifiers_and_holds_name\u001b[0m\u001b[1;33m(\u001b[0m\u001b[0mname\u001b[0m\u001b[1;33m)\u001b[0m\u001b[1;33m:\u001b[0m\u001b[1;33m\u001b[0m\u001b[1;33m\u001b[0m\u001b[0m\n\u001b[0;32m   5273\u001b[0m                 \u001b[1;32mreturn\u001b[0m \u001b[0mself\u001b[0m\u001b[1;33m[\u001b[0m\u001b[0mname\u001b[0m\u001b[1;33m]\u001b[0m\u001b[1;33m\u001b[0m\u001b[1;33m\u001b[0m\u001b[0m\n\u001b[1;32m-> 5274\u001b[1;33m             \u001b[1;32mreturn\u001b[0m \u001b[0mobject\u001b[0m\u001b[1;33m.\u001b[0m\u001b[0m__getattribute__\u001b[0m\u001b[1;33m(\u001b[0m\u001b[0mself\u001b[0m\u001b[1;33m,\u001b[0m \u001b[0mname\u001b[0m\u001b[1;33m)\u001b[0m\u001b[1;33m\u001b[0m\u001b[1;33m\u001b[0m\u001b[0m\n\u001b[0m\u001b[0;32m   5275\u001b[0m \u001b[1;33m\u001b[0m\u001b[0m\n\u001b[0;32m   5276\u001b[0m     \u001b[1;32mdef\u001b[0m \u001b[0m__setattr__\u001b[0m\u001b[1;33m(\u001b[0m\u001b[0mself\u001b[0m\u001b[1;33m,\u001b[0m \u001b[0mname\u001b[0m\u001b[1;33m:\u001b[0m \u001b[0mstr\u001b[0m\u001b[1;33m,\u001b[0m \u001b[0mvalue\u001b[0m\u001b[1;33m)\u001b[0m \u001b[1;33m->\u001b[0m \u001b[1;32mNone\u001b[0m\u001b[1;33m:\u001b[0m\u001b[1;33m\u001b[0m\u001b[1;33m\u001b[0m\u001b[0m\n",
      "\u001b[1;31mAttributeError\u001b[0m: 'DataFrame' object has no attribute 'sort'"
     ]
    }
   ],
   "source": []
  }
 ],
 "metadata": {
  "kernelspec": {
   "display_name": "Python 3",
   "language": "python",
   "name": "python3"
  },
  "language_info": {
   "codemirror_mode": {
    "name": "ipython",
    "version": 3
   },
   "file_extension": ".py",
   "mimetype": "text/x-python",
   "name": "python",
   "nbconvert_exporter": "python",
   "pygments_lexer": "ipython3",
   "version": "3.6.10"
  }
 },
 "nbformat": 4,
 "nbformat_minor": 4
}
