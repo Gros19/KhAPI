{
 "cells": [
  {
   "cell_type": "code",
   "execution_count": 1,
   "metadata": {},
   "outputs": [],
   "source": [
    "GrosProfit = [305.34, 284.72, 267.12, 251.59]\n",
    "TotalOperatingExpenses = [484.09, 521.79, 455.25, 478.66]"
   ]
  },
  {
   "cell_type": "code",
   "execution_count": 171,
   "metadata": {},
   "outputs": [],
   "source": [
    "# 전 분기 대비 성장률\n",
    "# 평균 성장율\n",
    "# 성장률의 기하평균\n",
    "\n",
    "# 성장률의 성장률\n",
    "class GrosRate:\n",
    "    rate = []\n",
    "    #forecastGrowthRate\n",
    "    fgRate = []\n",
    "    def __init__(self,profit, expenses):\n",
    "        self.profit = profit\n",
    "        self.expenses = expenses\n",
    "        \n",
    "        \n",
    "        \n",
    "    def arithmeticMean(self):\n",
    "        rate = self.rate\n",
    "        profit = self.profit\n",
    "        size = len(self.profit)\n",
    "#         print(f\"size: {size}\")\n",
    "        if size > 0:\n",
    "            for i in range(size-2, -1, -1):\n",
    "                # 성장률 구하는 공식\n",
    "                # GrowthRate = (present-past)/past*100\n",
    "                print(profit[i], profit[i+1], f\"{round((profit[i] - profit[i+1])/profit[i+1]*100,2):.2f}%\")\n",
    "                rate.append((profit[i] - profit[i+1])/profit[i+1]*100)\n",
    "            # 21년 3분기 까지의 실적기준\n",
    "            return round(sum(rate)/len(rate),2)\n",
    "        \n",
    "        \n",
    "    def whenTurnToProfit(self, ticker):\n",
    "        meanEx = sum(self.expenses)/len(self.expenses)\n",
    "        \n",
    "        profit = self.profit[0]\n",
    "        \n",
    "        quarter = 3\n",
    "        year = 2021\n",
    "        newRate = self.arithmeticMean()\n",
    "        print(f\"흑자 전환 목표 금액: {meanEx}\")\n",
    "        print(f\"이익 성장률: {newRate}\")\n",
    "        print(f\"이번 분기 이익:{profit} 비용:{meanEx} 합계:{profit - meanEx}\")\n",
    "        \n",
    "        while profit <= meanEx :\n",
    "            \n",
    "            quarter = quarter + 1\n",
    "            if quarter == 5:\n",
    "                year = year + 1\n",
    "                quarter = 0\n",
    "            # 마지막 분기 이익에 이익 평균성장률을 곱해\n",
    "            # 다음 분기 이익(예측값)을 구한다.\n",
    "            profit = profit + (profit * newRate / 100)\n",
    "            \n",
    "            print(f\"미래 [{year}년{quarter}Q] 이익:{profit} 비용:{meanEx}  합계:{profit - meanEx}\")\n",
    "        print(f\"미래 [{year}년{quarter}Q]에는 아마도 {ticker}가 적자에서 탈출할 것이다.\")\n",
    "        \n",
    "    def forecastGrowthRate(self):\n",
    "        if len(self.rate) == 0:\n",
    "            self.arithmeticMean()\n",
    "            \n",
    "        sum = 0.0\n",
    "        \n",
    "        frate = self.rate.copy()\n",
    "        frate.reverse()\n",
    "        print(frate)\n",
    "        size = len(frate)\n",
    "        for i in range(size-2, -1, -1):\n",
    "            print(f\"{frate[i]}\")\n",
    "            sum = sum + ((frate[i] - frate[i+1])/frate[i+1] * 100)\n",
    "           \n",
    "        \n",
    "        return sum / (size-1)\n",
    "\n",
    "\n",
    "\n",
    "    def geometricMean():\n",
    "        pass\n",
    "    def harmonicMean():\n",
    "        pass"
   ]
  },
  {
   "cell_type": "code",
   "execution_count": 172,
   "metadata": {},
   "outputs": [],
   "source": [
    "gr = GrosRate(GrosProfit, TotalOperatingExpenses)"
   ]
  },
  {
   "cell_type": "code",
   "execution_count": 173,
   "metadata": {},
   "outputs": [
    {
     "name": "stdout",
     "output_type": "stream",
     "text": [
      "267.12 251.59 6.17%\n",
      "284.72 267.12 6.59%\n",
      "305.34 284.72 7.24%\n"
     ]
    },
    {
     "data": {
      "text/plain": [
       "6.67"
      ]
     },
     "execution_count": 173,
     "metadata": {},
     "output_type": "execute_result"
    }
   ],
   "source": [
    "#분기 평균 성장률\n",
    "gr.arithmeticMean()"
   ]
  },
  {
   "cell_type": "code",
   "execution_count": 174,
   "metadata": {},
   "outputs": [
    {
     "data": {
      "text/plain": [
       "[6.172741364919115, 6.588799041629239, 7.24220286597357]"
      ]
     },
     "execution_count": 174,
     "metadata": {},
     "output_type": "execute_result"
    }
   ],
   "source": [
    "gr.rate"
   ]
  },
  {
   "cell_type": "code",
   "execution_count": 175,
   "metadata": {},
   "outputs": [
    {
     "name": "stdout",
     "output_type": "stream",
     "text": [
      "[7.24220286597357, 6.588799041629239, 6.172741364919115]\n",
      "6.588799041629239\n",
      "7.24220286597357\n"
     ]
    },
    {
     "data": {
      "text/plain": [
       "8.328564784066504"
      ]
     },
     "execution_count": 175,
     "metadata": {},
     "output_type": "execute_result"
    }
   ],
   "source": [
    "gr.forecastGrowthRate()"
   ]
  },
  {
   "cell_type": "code",
   "execution_count": 176,
   "metadata": {},
   "outputs": [
    {
     "name": "stdout",
     "output_type": "stream",
     "text": [
      "267.12 251.59 6.17%\n",
      "284.72 267.12 6.59%\n",
      "305.34 284.72 7.24%\n",
      "흑자 전환 목표 금액: 484.9475\n",
      "이익 성장률: 6.67\n",
      "이번 분기 이익:305.34 비용:484.9475 합계:-179.60750000000002\n",
      "미래 [2021년4Q] 이익:325.70617799999997 비용:484.9475  합계:-159.24132200000003\n",
      "미래 [2022년0Q] 이익:347.4307800726 비용:484.9475  합계:-137.5167199274\n",
      "미래 [2022년1Q] 이익:370.6044131034424 비용:484.9475  합계:-114.34308689655757\n",
      "미래 [2022년2Q] 이익:395.32372745744203 비용:484.9475  합계:-89.62377254255796\n",
      "미래 [2022년3Q] 이익:421.6918200788534 비용:484.9475  합계:-63.255679921146566\n",
      "미래 [2022년4Q] 이익:449.81866447811296 비용:484.9475  합계:-35.12883552188703\n",
      "미래 [2023년0Q] 이익:479.8215693988031 비용:484.9475  합계:-5.125930601196899\n",
      "미래 [2023년1Q] 이익:511.82566807770326 비용:484.9475  합계:26.878168077703265\n",
      "미래 [2023년1Q]에는 아마도 PLTR가 적자에서 탈출할 것이다.\n"
     ]
    }
   ],
   "source": [
    "gr.whenTurnToProfit(\"PLTR\")"
   ]
  },
  {
   "cell_type": "code",
   "execution_count": 177,
   "metadata": {},
   "outputs": [
    {
     "data": {
      "text/plain": [
       "2147483648"
      ]
     },
     "execution_count": 177,
     "metadata": {},
     "output_type": "execute_result"
    }
   ],
   "source": [
    "2**31"
   ]
  },
  {
   "cell_type": "code",
   "execution_count": 191,
   "metadata": {},
   "outputs": [
    {
     "data": {
      "text/plain": [
       "4"
      ]
     },
     "execution_count": 191,
     "metadata": {},
     "output_type": "execute_result"
    }
   ],
   "source": [
    "import math\n",
    "round(9 /2)"
   ]
  },
  {
   "cell_type": "code",
   "execution_count": 237,
   "metadata": {},
   "outputs": [
    {
     "data": {
      "text/plain": [
       "3.3166247903554"
      ]
     },
     "execution_count": 237,
     "metadata": {},
     "output_type": "execute_result"
    }
   ],
   "source": [
    "a  = 11\n",
    "sq = math.sqrt(a)\n",
    "sq\n"
   ]
  },
  {
   "cell_type": "code",
   "execution_count": 236,
   "metadata": {},
   "outputs": [
    {
     "name": "stdout",
     "output_type": "stream",
     "text": [
      " 1  1\n",
      " 2  1\n",
      " 3  2\n",
      " 4  2\n",
      " 5  2\n",
      " 6  2\n",
      " 7  3\n",
      " 8  3\n",
      " 9  3\n",
      "10  3\n",
      "11  3\n",
      "12  3\n",
      "13  4\n",
      "14  4\n",
      "15  4\n",
      "16  4\n",
      "17  4\n"
     ]
    }
   ],
   "source": [
    "for i in range(1, 18):\n",
    "    print(f\"{i:2} \", round(round(math.sqrt(i),2)))"
   ]
  },
  {
   "cell_type": "code",
   "execution_count": 238,
   "metadata": {},
   "outputs": [
    {
     "name": "stdout",
     "output_type": "stream",
     "text": [
      "50\n",
      "0 1\n",
      "0 2\n",
      "0 3\n",
      "0 4\n",
      "0 5\n",
      "0 6\n",
      "0 7\n",
      "0 8\n",
      "0 9\n",
      "0 10\n",
      "0 11\n",
      "0 12\n",
      "0 13\n",
      "0 14\n",
      "0 15\n",
      "0 16\n",
      "0 17\n",
      "0 18\n",
      "0 19\n",
      "0 20\n",
      "0 21\n",
      "0 22\n",
      "0 23\n",
      "0 24\n",
      "0 25\n",
      "0 26\n",
      "0 27\n",
      "0 28\n",
      "0 29\n",
      "0 30\n",
      "0 31\n",
      "0 32\n",
      "0 33\n",
      "0 34\n",
      "0 35\n",
      "0 36\n",
      "0 37\n",
      "0 38\n",
      "0 39\n",
      "0 40\n",
      "0 41\n",
      "0 42\n",
      "0 43\n",
      "0 44\n",
      "0 45\n",
      "0 46\n",
      "0 47\n",
      "0 48\n",
      "0 49\n",
      "0 50\n"
     ]
    }
   ],
   "source": [
    "m = 50\n",
    "print(m)\n",
    "m = m + 1\n",
    "for a in range(1, m):\n",
    "    print(f\"0 {a}\")"
   ]
  }
 ],
 "metadata": {
  "kernelspec": {
   "display_name": "Python 3",
   "language": "python",
   "name": "python3"
  },
  "language_info": {
   "codemirror_mode": {
    "name": "ipython",
    "version": 3
   },
   "file_extension": ".py",
   "mimetype": "text/x-python",
   "name": "python",
   "nbconvert_exporter": "python",
   "pygments_lexer": "ipython3",
   "version": "3.6.10"
  }
 },
 "nbformat": 4,
 "nbformat_minor": 4
}
