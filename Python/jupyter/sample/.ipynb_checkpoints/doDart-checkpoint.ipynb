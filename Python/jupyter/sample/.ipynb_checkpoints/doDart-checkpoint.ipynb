{
 "cells": [
  {
   "cell_type": "code",
   "execution_count": 66,
   "metadata": {},
   "outputs": [],
   "source": [
    "from  urllib.request import urlopen\n",
    "import xml.etree.ElementTree as ET\n",
    "import zipfile\n",
    "import io\n",
    "import os, sys\n",
    "import pandas as pd\n",
    "\n",
    "\n",
    "#모든 행과 열을 출력합니다.\n",
    "pd.set_option('display.max_columns', None)\n",
    "pd.set_option('display.max_rows', None)\n",
    "#출력되는 행과 열의 수를 제한합니다.\n",
    "# pd.options.display.max_rows = 60\n",
    "# pd.options.display.max_columns = 20"
   ]
  },
  {
   "cell_type": "code",
   "execution_count": 163,
   "metadata": {},
   "outputs": [],
   "source": [
    "# api key가 저장된 디렉토리\n",
    "sys.path.append(\"c:\\\\KhAPI\\\\Python\\\\toy\\\\dart\")\n",
    "from tool import API_KEY"
   ]
  },
  {
   "cell_type": "code",
   "execution_count": 184,
   "metadata": {},
   "outputs": [],
   "source": [
    "class DartReq:\n",
    "    def __init__(self,dart_api_key):\n",
    "        self.api_key = dart_api_key\n",
    "        \n",
    "    # CORPCODE.xml을 다운로드 합니다.\n",
    "    def down_corp_codeXML(self, saveXmlDir):\n",
    "        url = \"https://opendart.fss.or.kr/api/corpCode.xml?crtfc_key=\"\n",
    "        with urlopen(url+self.api_key) as zipresp:\n",
    "            with io.BytesIO(zipresp.read()) as ioB:\n",
    "                with zipfile.ZipFile(ioB) as zip:\n",
    "                    zip.extractall(saveXmlDir)\n",
    "                    \n",
    "    # xml파일을 파싱한 결과를 반환합니다.\n",
    "    def parse_corp_code(self, saveXmlDir):\n",
    "        corp_code = []\n",
    "        stock_code = []\n",
    "        corp_name = []\n",
    "\n",
    "        #다운받은 xml파일을 불러옵니다.\n",
    "        xml_file = f\"{saveXmlDir}\\CORPCODE.xml\"\n",
    "        print(xml_file)\n",
    "        doc = ET.parse(xml_file).getroot()\n",
    "        list_tg = doc.findall(\"list\")\n",
    "\n",
    "        # corp_code, stock_code, corp_name 각 배열에 항목을 추가합니다.\n",
    "        for i in list_tg:\n",
    "            corp_code.append(i.find(\"corp_code\").text)\n",
    "            corp_name.append(i.find(\"corp_name\").text)\n",
    "\n",
    "            # stock_code가 빈 항목이 존재하기 때문에 임의로 지정했습니다.\n",
    "            if i.find(\"stock_code\").text == \" \":\n",
    "                stock_code.append(\"99999999\")\n",
    "            else:\n",
    "                stock_code.append(i.find(\"stock_code\").text)\n",
    "\n",
    "        res = {\"corp_code\": corp_code, \"stock_code\": stock_code, \"corp_name\": corp_name}\n",
    "        return res  \n",
    "\n",
    "\n",
    "\n"
   ]
  },
  {
   "cell_type": "code",
   "execution_count": 187,
   "metadata": {},
   "outputs": [
    {
     "name": "stdout",
     "output_type": "stream",
     "text": [
      "회사코드 저장 경로:  c:\\KhAPI\\data\\dart\\corpcode\n"
     ]
    }
   ],
   "source": [
    "saveXmlDir = \"c:\\KhAPI\\data\\dart\\corpcode\";\n",
    "print(\"회사코드 저장 경로: \", saveFileDir)\n",
    "\n",
    "doDar = DartReq(API_KEY.key)\n",
    "doDar.down_corp_codeXML(saveFileDir)\n",
    " "
   ]
  },
  {
   "cell_type": "code",
   "execution_count": 196,
   "metadata": {},
   "outputs": [
    {
     "name": "stdout",
     "output_type": "stream",
     "text": [
      "c:\\KhAPI\\data\\dart\\corpcode\\CORPCODE.xml\n"
     ]
    },
    {
     "data": {
      "text/html": [
       "<div>\n",
       "<style scoped>\n",
       "    .dataframe tbody tr th:only-of-type {\n",
       "        vertical-align: middle;\n",
       "    }\n",
       "\n",
       "    .dataframe tbody tr th {\n",
       "        vertical-align: top;\n",
       "    }\n",
       "\n",
       "    .dataframe thead th {\n",
       "        text-align: right;\n",
       "    }\n",
       "</style>\n",
       "<table border=\"1\" class=\"dataframe\">\n",
       "  <thead>\n",
       "    <tr style=\"text-align: right;\">\n",
       "      <th></th>\n",
       "      <th>corp_code</th>\n",
       "      <th>corp_name</th>\n",
       "    </tr>\n",
       "    <tr>\n",
       "      <th>stock_code</th>\n",
       "      <th></th>\n",
       "      <th></th>\n",
       "    </tr>\n",
       "  </thead>\n",
       "  <tbody>\n",
       "    <tr>\n",
       "      <th>000010</th>\n",
       "      <td>00149293</td>\n",
       "      <td>신한은행</td>\n",
       "    </tr>\n",
       "    <tr>\n",
       "      <th>000020</th>\n",
       "      <td>00119195</td>\n",
       "      <td>동화약품</td>\n",
       "    </tr>\n",
       "    <tr>\n",
       "      <th>000030</th>\n",
       "      <td>00254045</td>\n",
       "      <td>우리은행</td>\n",
       "    </tr>\n",
       "    <tr>\n",
       "      <th>000040</th>\n",
       "      <td>00112378</td>\n",
       "      <td>KR모터스</td>\n",
       "    </tr>\n",
       "    <tr>\n",
       "      <th>000050</th>\n",
       "      <td>00101628</td>\n",
       "      <td>경방</td>\n",
       "    </tr>\n",
       "    <tr>\n",
       "      <th>000060</th>\n",
       "      <td>00117744</td>\n",
       "      <td>메리츠화재</td>\n",
       "    </tr>\n",
       "    <tr>\n",
       "      <th>000070</th>\n",
       "      <td>00126937</td>\n",
       "      <td>삼양홀딩스</td>\n",
       "    </tr>\n",
       "    <tr>\n",
       "      <th>000080</th>\n",
       "      <td>00150244</td>\n",
       "      <td>하이트진로</td>\n",
       "    </tr>\n",
       "    <tr>\n",
       "      <th>000100</th>\n",
       "      <td>00145109</td>\n",
       "      <td>유한양행</td>\n",
       "    </tr>\n",
       "    <tr>\n",
       "      <th>000110</th>\n",
       "      <td>00148504</td>\n",
       "      <td>한국스탠다드차타드은행</td>\n",
       "    </tr>\n",
       "  </tbody>\n",
       "</table>\n",
       "</div>"
      ],
      "text/plain": [
       "           corp_code    corp_name\n",
       "stock_code                       \n",
       "000010      00149293         신한은행\n",
       "000020      00119195         동화약품\n",
       "000030      00254045         우리은행\n",
       "000040      00112378        KR모터스\n",
       "000050      00101628           경방\n",
       "000060      00117744        메리츠화재\n",
       "000070      00126937        삼양홀딩스\n",
       "000080      00150244        하이트진로\n",
       "000100      00145109         유한양행\n",
       "000110      00148504  한국스탠다드차타드은행"
      ]
     },
     "execution_count": 196,
     "metadata": {},
     "output_type": "execute_result"
    }
   ],
   "source": [
    "# parse_corp_code 함수 호출\n",
    "corp_info = doDar.parse_corp_code(saveXmlDir)\n",
    "\n",
    "p1 = pd.DataFrame(corp_info)\n",
    "\n",
    "# 마지막 번호 999980\t99999999\t금감원(테스트)\n",
    "p1 = p1.set_index('stock_code').sort_index()\n",
    "p1.loc[:\"99980\"][:10]"
   ]
  },
  {
   "cell_type": "code",
   "execution_count": null,
   "metadata": {},
   "outputs": [],
   "source": []
  }
 ],
 "metadata": {
  "kernelspec": {
   "display_name": "Python 3",
   "language": "python",
   "name": "python3"
  },
  "language_info": {
   "codemirror_mode": {
    "name": "ipython",
    "version": 3
   },
   "file_extension": ".py",
   "mimetype": "text/x-python",
   "name": "python",
   "nbconvert_exporter": "python",
   "pygments_lexer": "ipython3",
   "version": "3.6.10"
  }
 },
 "nbformat": 4,
 "nbformat_minor": 4
}
