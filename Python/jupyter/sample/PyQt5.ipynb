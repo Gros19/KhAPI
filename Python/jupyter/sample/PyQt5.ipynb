{
 "cells": [
  {
   "cell_type": "code",
   "execution_count": null,
   "metadata": {},
   "outputs": [],
   "source": [
    "################################\n",
    "import sys\n",
    "from PyQt5.QtWidgets import *\n",
    "################################\n",
    "app = QApplication(sys.argv)\n",
    "label = QLabel(\"Hello PyQt\")\n",
    "label.show()\n",
    "app.exec_()"
   ]
  },
  {
   "cell_type": "code",
   "execution_count": 1,
   "metadata": {},
   "outputs": [
    {
     "data": {
      "text/plain": [
       "0"
      ]
     },
     "execution_count": 1,
     "metadata": {},
     "output_type": "execute_result"
    }
   ],
   "source": [
    "# Quit button ex\n",
    "##################################\n",
    "import sys\n",
    "from PyQt5.QtWidgets import *\n",
    "##################################\n",
    "app = QApplication.instance()\n",
    "if app is None:\n",
    "    app = QApplication(sys.argv)\n",
    "label = QPushButton(\"Quit\")\n",
    "label.show()\n",
    "app.exec_()\n"
   ]
  },
  {
   "cell_type": "code",
   "execution_count": 15,
   "metadata": {},
   "outputs": [
    {
     "name": "stdout",
     "output_type": "stream",
     "text": [
      "<PyQt5.QtWidgets.QApplication object at 0x000001C87B1B43A8>\n"
     ]
    },
    {
     "data": {
      "text/plain": [
       "0"
      ]
     },
     "execution_count": 15,
     "metadata": {},
     "output_type": "execute_result"
    }
   ],
   "source": [
    "#PyQt 기본 실행\n",
    "################################\n",
    "import sys\n",
    "from PyQt5.QtWidgets import *\n",
    "from PyQt5.QtCore import *\n",
    "#################################\n",
    "\n",
    "\n",
    "print(QCoreApplication.instance())\n",
    "app = QCoreApplication.instance()\n",
    "\n",
    "if app is None:\n",
    "    app = QApplication(sys.argv)\n",
    "label = QLabel(\"\\nHello PyQt\\n\")\n",
    "label.show()\n",
    "app.exec_()"
   ]
  },
  {
   "cell_type": "code",
   "execution_count": null,
   "metadata": {},
   "outputs": [],
   "source": [
    "#객체 메모리 주소 젒근\n",
    "app.__repr__()"
   ]
  },
  {
   "cell_type": "code",
   "execution_count": 16,
   "metadata": {},
   "outputs": [],
   "source": [
    "###############################\n",
    "import sys\n",
    "from PyQt5.QtWidgets import *\n",
    "###############################\n",
    "\n",
    "class MyWindow(QMainWindow):\n",
    "    def __init__(self):\n",
    "        super().__init__()\n",
    "        self.setWindowTitle(\"PyStock\")\n",
    "        self.setGeometry(300,300,300, 400)\n",
    "        \n",
    "# if __name__ == \"__main__\":\n",
    "    \n",
    "#     app = QApplication.instance()\n",
    "#     if app is None:\n",
    "#         app = QApplication(sys.argv)\n",
    "#     mywindow = MyWindow()\n",
    "#     mywindow.show()\n",
    "#     app.exec_()\n",
    "#     print(app.__repr__())\n",
    "# else:\n",
    "#     print(\"not __main__\")"
   ]
  },
  {
   "cell_type": "code",
   "execution_count": 19,
   "metadata": {},
   "outputs": [
    {
     "data": {
      "text/plain": [
       "['C:\\\\base\\\\Anaconda3\\\\envs\\\\venv\\\\lib\\\\site-packages\\\\ipykernel_launcher.py',\n",
       " '-f',\n",
       " 'C:\\\\Users\\\\wnnah\\\\AppData\\\\Roaming\\\\jupyter\\\\runtime\\\\kernel-7d842a14-2712-440c-a3cb-af423ab43f63.json']"
      ]
     },
     "execution_count": 19,
     "metadata": {},
     "output_type": "execute_result"
    }
   ],
   "source": [
    "sys.argv\n",
    "\"\"\"\n",
    "sys.argv 값은 현재 소스코드에 대한 절대 경로임을 확인할 수 있습니다.\n",
    "QApplication 클래스의 인스턴스를 생성할 때 생성자로 이 값을 전달해야 합니다.\n",
    "\"\"\""
   ]
  },
  {
   "cell_type": "code",
   "execution_count": 7,
   "metadata": {},
   "outputs": [
    {
     "name": "stdout",
     "output_type": "stream",
     "text": [
      "Child1 ['__class__', '__delattr__', '__dict__', '__dir__', '__doc__', '__eq__', '__format__', '__ge__', '__getattribute__', '__gt__', '__hash__', '__init__', '__init_subclass__', '__le__', '__lt__', '__module__', '__ne__', '__new__', '__reduce__', '__reduce_ex__', '__repr__', '__setattr__', '__sizeof__', '__str__', '__subclasshook__', '__weakref__', 'house', 'money']\n",
      "Child2 ['__class__', '__delattr__', '__dict__', '__dir__', '__doc__', '__eq__', '__format__', '__ge__', '__getattribute__', '__gt__', '__hash__', '__init__', '__init_subclass__', '__le__', '__lt__', '__module__', '__ne__', '__new__', '__reduce__', '__reduce_ex__', '__repr__', '__setattr__', '__sizeof__', '__str__', '__subclasshook__', '__weakref__', 'house']\n"
     ]
    }
   ],
   "source": [
    "#상속에 관한 예제\n",
    "\n",
    "class Parent:\n",
    "    house = \"youn-san\"\n",
    "    def __init__(self):\n",
    "        self.money = 10000\n",
    "        \n",
    "class Child1(Parent):\n",
    "    def __init__(self):\n",
    "        super().__init__()\n",
    "        \n",
    "        pass\n",
    "    \n",
    "class Child2(Parent):\n",
    "    def __init__(self):\n",
    "        pass\n",
    "    \n",
    "child1 = Child1()\n",
    "child2 = Child2()\n",
    "\n",
    "print(\"Child1\",dir(child1))\n",
    "print(\"Child2\",dir(child2))\n"
   ]
  },
  {
   "cell_type": "code",
   "execution_count": 3,
   "metadata": {},
   "outputs": [],
   "source": [
    "#PyQt 맛보기\n",
    "\n",
    "import sys\n",
    "from PyQt5.QtWidgets import *\n",
    "from PyQt5.QtCore import *\n",
    "\n",
    "class MyWindow(QMainWindow):\n",
    "    def __init__(self):\n",
    "        super().__init__()\n",
    "        self.setWindowTitle(\"PyStock\")\n",
    "        self.setGeometry(300, 300, 300, 400)\n",
    "        \n",
    "        btn1 = QPushButton(\"Click me\", self)\n",
    "        btn1.move(100,20)\n",
    "        btn1.clicked.connect(self.btn1_clicked)\n",
    "        \n",
    "        \n",
    "    def btn1_clicked(self):\n",
    "        QMessageBox.about(self, \"message\", \"clicked\")\n",
    "        QMessageBox.information(self, \"message\", \"clicked\")\n",
    "        QMessageBox.warning(self, \"message\", \"clicked\")\n",
    "        answer = QMessageBox.question(self, \"message\", \"clicked\")\n",
    "        QMessageBox.critical(self, \"message\", \"clicked\")\n",
    "        print(\"clicked!\", answer)\n",
    "        #16384 - YES\n",
    "        #65536 - NO\n",
    "    \n",
    "        \n",
    "        \n",
    "if __name__ == \"__main__\":\n",
    "    app = QApplication.instance()\n",
    "    if app is None:\n",
    "        app = QApplication(sys.argv)\n",
    "    myWindow = MyWindow()\n",
    "    myWindow.show()\n",
    "    app.exec_()"
   ]
  },
  {
   "cell_type": "code",
   "execution_count": 1,
   "metadata": {},
   "outputs": [],
   "source": [
    "import sys\n",
    "from PyQt5.QtWidgets import *\n",
    "from PyQt5.QtGui import *\n",
    "from PyQt5.QAxContainer import *\n",
    "#######################################################\n",
    "\n",
    "class MyWindow(QMainWindow):\n",
    "    def __init__(self):\n",
    "        super().__init__()\n",
    "        self.setWindowTitle(\"PyStock\")\n",
    "        self.setGeometry(300, 300, 300, 150)\n",
    "        \n",
    "        self.kiwoom = QAxWidget(\"KHOPENAPI.KHOpenAPICtrl.1\")\n",
    "        self.kiwoom.dynamicCall(\"CommConnect()\")\n",
    "        \n",
    "        self.text_edit = QTextEdit(self)\n",
    "        self.text_edit.setGeometry(10, 60, 280, 80)\n",
    "        self.text_edit.setEnabled(False)\n",
    "        \n",
    "        \n",
    "        self.kiwoom.OnEventConnect.connect(self.event_connect)\n",
    "        \n",
    "    def event_connect(self, err_code):\n",
    "        if err_code == 0:\n",
    "            self.text_edit.append(\"로그인 성공\")\n",
    "            \n",
    "            \n",
    "# if __name__ == \"__main__\":\n",
    "#     app = QApplication.instance()\n",
    "#     if app is None:\n",
    "#         app = QApplication(sys.argv)\n",
    "        \n",
    "#     myWindow = MyWindow()\n",
    "#     myWindow.show()\n",
    "#     app.exec_()"
   ]
  },
  {
   "cell_type": "code",
   "execution_count": 1,
   "metadata": {},
   "outputs": [],
   "source": [
    "from PyQt5.QtCore import *\n",
    "\n",
    "####################################\n",
    "def lunch(obj):\n",
    "    app = QApplication.instance()\n",
    "    if app is None:\n",
    "        app = QApplication(sys.argv)\n",
    "    myWindow = obj()\n",
    "    myWindow.show()\n",
    "    app.exec_()"
   ]
  },
  {
   "cell_type": "code",
   "execution_count": null,
   "metadata": {},
   "outputs": [],
   "source": [
    "lunch(MyWindow)"
   ]
  },
  {
   "cell_type": "code",
   "execution_count": 2,
   "metadata": {},
   "outputs": [],
   "source": [
    "#################################\n",
    "#주식 기본 정보 출력\n",
    "#################################\n",
    "import sys\n",
    "from PyQt5.QtWidgets import *\n",
    "from PyQt5.QtGui import *\n",
    "from PyQt5.QAxContainer import *\n",
    "#################################\n",
    "\n",
    "\n",
    "class MyWindow(QMainWindow):\n",
    "    login_stat = 141\n",
    "    def __init__(self):\n",
    "        super().__init__()\n",
    "        self.setWindowTitle(\"Pystock\")\n",
    "        self.setGeometry(300, 300, 300, 500)\n",
    "        \n",
    "        \n",
    "      \n",
    "        btn1 = QPushButton(\"로그인\", self)\n",
    "        btn1.move(190, 60)\n",
    "        btn1.clicked.connect(self.login)\n",
    "        \n",
    "        #조회 결과 출력 공간\n",
    "        self.text_edit = QTextEdit(self)\n",
    "        self.text_edit.setGeometry(10, 100, 280, 80)\n",
    "        self.text_edit.setEnabled(False)\n",
    "        \n",
    "        btn1 = QPushButton(\"조회\", self)\n",
    "        btn1.move(190, 20)\n",
    "        btn1.clicked.connect(self.btn1_login_clicked)\n",
    "            \n",
    "        label = QLabel(\"종목코드: \", self)\n",
    "        label.move(20, 20)\n",
    "\n",
    "        self.code_edit = QLineEdit(self)\n",
    "        self.code_edit.move(80, 20)\n",
    "            \n",
    "        #종목코드 조회 입력 창에 디폴트 입력값\n",
    "        self.code_edit.setText(\"039490\")   \n",
    "        QMessageBox.about(self, \"message\", f\"__init__{self.login_stat}\")\n",
    "        \n",
    "        \n",
    "        \n",
    "    #카움증권 로그인    \n",
    "    def login(self):\n",
    "        self.kiwoom = QAxWidget(\"KHOPENAPI.KHOpenAPICtrl.1\")\n",
    "        self.kiwoom.dynamicCall(\"commConnect()\")\n",
    "        self.kiwoom.OnEventConnect.connect(self.event_connect)\n",
    "    \n",
    "    def event_connect(self, err_code):\n",
    "        if err_code == 0:\n",
    "            self.login_stat = err_code\n",
    "            print(self.login_stat)\n",
    "            QMessageBox.about(self, \"message\", f\"로그인 성공{self.login_stat}\")\n",
    "            self.text_edit.append(f\"로그인 성공{self.login_stat}\")\n",
    "            \n",
    "        QMessageBox.about(self, \"message\", f\"at event_connect {self.login_stat}\")\n",
    "        \n",
    "    #조회 버튼 클릭 시\n",
    "    def btn1_login_clicked(self):\n",
    "        code = self.code_edit.text()\n",
    "        self.text_edit.append(\"종목코드: \" + code)"
   ]
  },
  {
   "cell_type": "code",
   "execution_count": 4,
   "metadata": {},
   "outputs": [],
   "source": [
    "import sys\n",
    "from PyQt5.QtWidgets import *\n",
    "from PyQt5.QtGui import  *\n",
    "from PyQt5.QAxContainer import *\n",
    "\n",
    "class MyWindow(QMainWindow):\n",
    "    def __init__(self):\n",
    "        super().__init__()\n",
    "\n",
    "        # Kiwoom Login\n",
    "        self.kiwoom = QAxWidget(\"KHOPENAPI.KHOpenAPICtrl.1\")\n",
    "        self.kiwoom.dynamicCall(\"CommConnect()\")\n",
    "        self.kiwoom.OnEventConnect.connect(self.event_connect)\n",
    "\n",
    "        self.setWindowTitle(\"PyStock\")\n",
    "        self.setGeometry(300, 300, 300, 150)\n",
    "\n",
    "        label = QLabel('종목코드: ', self)\n",
    "        label.move(20, 20)\n",
    "\n",
    "        self.code_edit = QLineEdit(self)\n",
    "        self.code_edit.move(80, 20)\n",
    "        self.code_edit.setText(\"039490\")\n",
    "\n",
    "        btn1 = QPushButton(\"조회\", self)\n",
    "        btn1.move(190, 20)\n",
    "        btn1.clicked.connect(self.btn1_clicked)\n",
    "\n",
    "        self.text_edit = QTextEdit(self)\n",
    "        self.text_edit.setGeometry(10, 60, 280, 80)\n",
    "        self.text_edit.setEnabled(False)\n",
    "\n",
    "    def event_connect(self, err_code):\n",
    "        if err_code == 0:\n",
    "            self.text_edit.append(f\"로그인 성공\")\n",
    "\n",
    "    def btn1_clicked(self):\n",
    "        code = self.code_edit.text()\n",
    "        self.text_edit.append(\"종목코드: \" + code)"
   ]
  },
  {
   "cell_type": "code",
   "execution_count": 9,
   "metadata": {},
   "outputs": [
    {
     "data": {
      "text/plain": [
       "'wefwef0'"
      ]
     },
     "execution_count": 9,
     "metadata": {},
     "output_type": "execute_result"
    }
   ],
   "source": []
  }
 ],
 "metadata": {
  "kernelspec": {
   "display_name": "Python 3",
   "language": "python",
   "name": "python3"
  },
  "language_info": {
   "codemirror_mode": {
    "name": "ipython",
    "version": 3
   },
   "file_extension": ".py",
   "mimetype": "text/x-python",
   "name": "python",
   "nbconvert_exporter": "python",
   "pygments_lexer": "ipython3",
   "version": "3.6.4"
  }
 },
 "nbformat": 4,
 "nbformat_minor": 4
}
