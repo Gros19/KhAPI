{
 "cells": [
  {
   "cell_type": "code",
   "execution_count": 2,
   "id": "f7998ee8",
   "metadata": {},
   "outputs": [],
   "source": [
    "import sys\n"
   ]
  },
  {
   "cell_type": "code",
   "execution_count": 8,
   "id": "b5ded8c6",
   "metadata": {},
   "outputs": [],
   "source": [
    "import API_KEY"
   ]
  },
  {
   "cell_type": "code",
   "execution_count": 9,
   "id": "4b7fa3c0",
   "metadata": {},
   "outputs": [
    {
     "data": {
      "text/plain": [
       "['C:\\\\base\\\\Anaconda3\\\\envs\\\\venv\\\\python36.zip',\n",
       " 'C:\\\\base\\\\Anaconda3\\\\envs\\\\venv\\\\DLLs',\n",
       " 'C:\\\\base\\\\Anaconda3\\\\envs\\\\venv\\\\lib',\n",
       " 'C:\\\\base\\\\Anaconda3\\\\envs\\\\venv',\n",
       " '',\n",
       " 'C:\\\\Users\\\\wnnah\\\\AppData\\\\Roaming\\\\Python\\\\Python36\\\\site-packages',\n",
       " 'C:\\\\base\\\\Anaconda3\\\\envs\\\\venv\\\\lib\\\\site-packages',\n",
       " 'C:\\\\base\\\\Anaconda3\\\\envs\\\\venv\\\\lib\\\\site-packages\\\\win32',\n",
       " 'C:\\\\base\\\\Anaconda3\\\\envs\\\\venv\\\\lib\\\\site-packages\\\\win32\\\\lib',\n",
       " 'C:\\\\base\\\\Anaconda3\\\\envs\\\\venv\\\\lib\\\\site-packages\\\\Pythonwin',\n",
       " 'C:\\\\base\\\\Anaconda3\\\\envs\\\\venv\\\\lib\\\\site-packages\\\\IPython\\\\extensions',\n",
       " 'C:\\\\Users\\\\wnnah\\\\.ipython',\n",
       " 'C:\\\\KhAPI\\\\Python\\toy\\\\dart\\tool',\n",
       " 'c:\\\\KhAPI\\\\Python\\\\toy\\\\dart\\\\tool']"
      ]
     },
     "execution_count": 9,
     "metadata": {},
     "output_type": "execute_result"
    }
   ],
   "source": [
    "sys.path"
   ]
  },
  {
   "cell_type": "code",
   "execution_count": 4,
   "id": "484829a3",
   "metadata": {},
   "outputs": [],
   "source": [
    "sys.path.append('C:\\KhAPI\\Python\\toy\\dart\\tool')"
   ]
  },
  {
   "cell_type": "code",
   "execution_count": 7,
   "id": "85956f3d",
   "metadata": {},
   "outputs": [],
   "source": [
    "sys.path.append(\"c:\\\\KhAPI\\\\Python\\\\toy\\\\dart\\\\tool\")"
   ]
  },
  {
   "cell_type": "code",
   "execution_count": 11,
   "id": "37033bac",
   "metadata": {},
   "outputs": [
    {
     "data": {
      "text/plain": [
       "'a27a4e6bf5d8701810d49839d64922a438b03918'"
      ]
     },
     "execution_count": 11,
     "metadata": {},
     "output_type": "execute_result"
    }
   ],
   "source": [
    "API_KEY.key2"
   ]
  }
 ],
 "metadata": {
  "kernelspec": {
   "display_name": "Python 3",
   "language": "python",
   "name": "python3"
  },
  "language_info": {
   "codemirror_mode": {
    "name": "ipython",
    "version": 3
   },
   "file_extension": ".py",
   "mimetype": "text/x-python",
   "name": "python",
   "nbconvert_exporter": "python",
   "pygments_lexer": "ipython3",
   "version": "3.6.4"
  }
 },
 "nbformat": 4,
 "nbformat_minor": 5
}
