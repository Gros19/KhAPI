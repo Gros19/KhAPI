{
 "cells": [
  {
   "cell_type": "code",
   "execution_count": 16,
   "id": "6b4fd5f3",
   "metadata": {},
   "outputs": [
    {
     "name": "stdout",
     "output_type": "stream",
     "text": [
      "로그인 성공\n"
     ]
    }
   ],
   "source": [
    "import win32com.client\n",
    "\n",
    "class XASessionEventHandler:\n",
    "    login_state = 0\n",
    "    \n",
    "    # callback function\n",
    "    #이베스트투자증권의 서버가 로그인 결과 통지할 때\n",
    "    def OnLogin(self, code, msg):\n",
    "        if code == \"0000\":\n",
    "            print(\"로그인 성공\")\n",
    "            XASessionEventHandler.login_state = 1\n",
    "        else:\n",
    "            print(\"로그인 실패\")\n",
    "            print(code,\":: \",msg)\n",
    "            \n",
    "instXASession = win32com.client.DispatchWithEvents(\"XA_Session.XASession\", XASessionEventHandler)\n",
    "myid = \"bkk112\"\n",
    "passwd = \"dbrtlr1\"\n",
    "cert_passwd = \"cert\"\n",
    "instXASession.ConnectServer(\"demo.ebestsec.co.kr\",20001)\n",
    "instXASession.Login(myid, passwd, cert_passwd, 0, 0)\n",
    "\n",
    "while XASessionEventHandler.login_state == 0:\n",
    "    pythoncom.PumpWaitingMessages()"
   ]
  },
  {
   "cell_type": "code",
   "execution_count": 1,
   "id": "0cd103a0",
   "metadata": {},
   "outputs": [
    {
     "data": {
      "text/plain": [
       "('32bit', 'WindowsPE')"
      ]
     },
     "execution_count": 1,
     "metadata": {},
     "output_type": "execute_result"
    }
   ],
   "source": [
    "import platform\n",
    "platform.architecture()"
   ]
  },
  {
   "cell_type": "code",
   "execution_count": 10,
   "id": "17f07d69",
   "metadata": {},
   "outputs": [
    {
     "name": "stdout",
     "output_type": "stream",
     "text": [
      "# packages in environment at C:\\base\\Anaconda3\\envs\\py32:\n",
      "#\n",
      "# Name                    Version                   Build  Channel\n",
      "argon2-cffi               21.3.0                   pypi_0    pypi\n",
      "argon2-cffi-bindings      21.2.0                   pypi_0    pypi\n",
      "async-generator           1.10                     pypi_0    pypi\n",
      "attrs                     21.4.0                   pypi_0    pypi\n",
      "backcall                  0.2.0                    pypi_0    pypi\n",
      "bleach                    4.1.0                    pypi_0    pypi\n",
      "certifi                   2021.5.30        py36h9f7ea03_0  \n",
      "cffi                      1.15.0                   pypi_0    pypi\n",
      "colorama                  0.4.4                    pypi_0    pypi\n",
      "dataclasses               0.8                      pypi_0    pypi\n",
      "decorator                 5.1.1                    pypi_0    pypi\n",
      "defusedxml                0.7.1                    pypi_0    pypi\n",
      "entrypoints               0.4                      pypi_0    pypi\n",
      "importlib-metadata        4.8.3                    pypi_0    pypi\n",
      "ipykernel                 5.5.6                    pypi_0    pypi\n",
      "ipython                   7.16.3                   pypi_0    pypi\n",
      "ipython-genutils          0.2.0                    pypi_0    pypi\n",
      "jedi                      0.17.2                   pypi_0    pypi\n",
      "jinja2                    3.0.3                    pypi_0    pypi\n",
      "jsonschema                3.2.0                    pypi_0    pypi\n",
      "jupyter-client            7.1.2                    pypi_0    pypi\n",
      "jupyter-core              4.9.1                    pypi_0    pypi\n",
      "jupyterlab-pygments       0.1.2                    pypi_0    pypi\n",
      "markupsafe                2.0.1                    pypi_0    pypi\n",
      "mistune                   0.8.4                    pypi_0    pypi\n",
      "nbclient                  0.5.9                    pypi_0    pypi\n",
      "nbconvert                 6.0.7                    pypi_0    pypi\n",
      "nbformat                  5.1.3                    pypi_0    pypi\n",
      "nest-asyncio              1.5.4                    pypi_0    pypi\n",
      "notebook                  6.4.8                    pypi_0    pypi\n",
      "packaging                 21.3                     pypi_0    pypi\n",
      "pandocfilters             1.5.0                    pypi_0    pypi\n",
      "parso                     0.7.1                    pypi_0    pypi\n",
      "pickleshare               0.7.5                    pypi_0    pypi\n",
      "pip                       21.3.1                   pypi_0    pypi\n",
      "prometheus-client         0.13.1                   pypi_0    pypi\n",
      "prompt-toolkit            3.0.26                   pypi_0    pypi\n",
      "pycparser                 2.21                     pypi_0    pypi\n",
      "pygments                  2.11.2                   pypi_0    pypi\n",
      "pyparsing                 3.0.7                    pypi_0    pypi\n",
      "pyqt5                     5.15.6                   pypi_0    pypi\n",
      "pyqt5-qt5                 5.15.2                   pypi_0    pypi\n",
      "pyqt5-sip                 12.9.1                   pypi_0    pypi\n",
      "pyrsistent                0.18.0                   pypi_0    pypi\n",
      "python                    3.6.13               hae2a899_0  \n",
      "python-dateutil           2.8.2                    pypi_0    pypi\n",
      "pywin32                   303                      pypi_0    pypi\n",
      "pywinpty                  0.5.7                    pypi_0    pypi\n",
      "pyzmq                     22.3.0                   pypi_0    pypi\n",
      "send2trash                1.8.0                    pypi_0    pypi\n",
      "setuptools                58.0.4           py36h9f7ea03_0  \n",
      "six                       1.16.0                   pypi_0    pypi\n",
      "sqlite                    3.37.0               hc431981_0  \n",
      "terminado                 0.9.5                    pypi_0    pypi\n",
      "testpath                  0.5.0                    pypi_0    pypi\n",
      "tornado                   6.1                      pypi_0    pypi\n",
      "traitlets                 4.3.3                    pypi_0    pypi\n",
      "typing-extensions         4.0.1                    pypi_0    pypi\n",
      "vc                        14.2                 h21ff451_1  \n",
      "vs2015_runtime            14.27.29016          h5e58377_2  \n",
      "wcwidth                   0.2.5                    pypi_0    pypi\n",
      "webencodings              0.5.1                    pypi_0    pypi\n",
      "wheel                     0.37.1             pyhd3eb1b0_0  \n",
      "wincertstore              0.2              py36hcdd9a18_0  \n",
      "zipp                      3.6.0                    pypi_0    pypi\n"
     ]
    }
   ],
   "source": [
    "!conda list \n"
   ]
  },
  {
   "cell_type": "code",
   "execution_count": 17,
   "id": "11f19b1e",
   "metadata": {},
   "outputs": [
    {
     "name": "stdout",
     "output_type": "stream",
     "text": [
      "{B75BE41B-44CA-4207-859F-179721F9479C}\n",
      "{9E3FB4D2-8B0B-4ACD-8FA0-2AD425962420}\n"
     ]
    }
   ],
   "source": [
    "import pythoncom\n",
    "print(pythoncom.CreateGuid())\n",
    "print(pythoncom.CreateGuid())"
   ]
  },
  {
   "cell_type": "code",
   "execution_count": null,
   "id": "521f5d71",
   "metadata": {},
   "outputs": [],
   "source": []
  }
 ],
 "metadata": {
  "kernelspec": {
   "display_name": "Python 3",
   "language": "python",
   "name": "python3"
  },
  "language_info": {
   "codemirror_mode": {
    "name": "ipython",
    "version": 3
   },
   "file_extension": ".py",
   "mimetype": "text/x-python",
   "name": "python",
   "nbconvert_exporter": "python",
   "pygments_lexer": "ipython3",
   "version": "3.6.13"
  }
 },
 "nbformat": 4,
 "nbformat_minor": 5
}
