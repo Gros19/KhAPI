{
 "cells": [
  {
   "cell_type": "code",
   "execution_count": null,
   "metadata": {
    "pycharm": {
     "is_executing": true
    }
   },
   "outputs": [
    {
     "data": {
      "text/plain": "'38e70ec664e25603cf823dd93883bf86022734f9'"
     },
     "execution_count": 19,
     "metadata": {},
     "output_type": "execute_result"
    }
   ],
   "source": [
    "import json\n",
    "import dart_fss as dart\n",
    "\n",
    "import pandas as pd\n",
    "\n",
    "#KEY.json에서 API KEY 불러오기\n",
    "with open(\"KEY.json\", \"r\") as f:\n",
    "    json_data = json.load(f)\n",
    "    \n",
    "key1 = json_data[\"key\"]\n",
    "key2 = json_data[\"key2\"]\n",
    "\n",
    "#api key 설정\n",
    "dart.set_api_key(api_key=key1)"
   ]
  },
  {
   "cell_type": "code",
   "execution_count": 20,
   "outputs": [
    {
     "data": {
      "text/plain": "Annual reports:   0%|          | 0/4 [00:00<?, ?report/s]",
      "application/vnd.jupyter.widget-view+json": {
       "version_major": 2,
       "version_minor": 0,
       "model_id": "ec3d922799e94218a852432b1f7d0ec2"
      }
     },
     "metadata": {},
     "output_type": "display_data"
    }
   ],
   "source": [
    "# 삼성전자 code\n",
    "corp_code = '00126380'\n",
    "\n",
    "\n",
    "# 2012년 01월 01일 부터 연결재무제표 검색\n",
    "# fs = samsung.extract_fs(bgn_de='20120101') 와 동일\n",
    "fs = dart.fs.extract(corp_code=corp_code, bgn_de='20190101', lang=\"ko\")"
   ],
   "metadata": {
    "collapsed": false,
    "pycharm": {
     "name": "#%%\n"
    }
   }
  },
  {
   "cell_type": "code",
   "execution_count": null,
   "outputs": [
    {
     "data": {
      "text/plain": "   [D210000] Statement of financial position, current/non-current - Consolidated financial statements (Unit: KRW)  \\\n                                                                                                       concept_id   \n0                             ifrs-full_CurrentAssets                                                               \n1                    ifrs-full_CashAndCashEquivalents                                                               \n2   dart_ShortTermDepositsNotClassifiedAsCashEquiv...                                                               \n3   entity00126380_udf_BS_201851017339116_CurrentA...                                                               \n4   ifrs-full_CurrentFinancialAssetsAtFairValueThr...                                                               \n5                       dart_ShortTermTradeReceivable                                                               \n6   entity00126380_udf_BS_201710182279121_CurrentA...                                                               \n7   entity00126380_udf_BS_2017101822109437_Current...                                                               \n8                               ifrs-full_Inventories                                                               \n9                             dart_OtherCurrentAssets                                                               \n10  entity00126380_udf_BS_20201022194537291_Curren...                                                               \n11                         ifrs-full_NoncurrentAssets                                                               \n12  entity00126380_udf_BS_201851017830322_Noncurre...                                                               \n13  entity00126380_udf_BS_201851017832579_Noncurre...                                                               \n14  entity00126380_udf_BS_20171018221637438_Noncur...                                                               \n15                ifrs-full_PropertyPlantAndEquipment                                                               \n16        ifrs-full_IntangibleAssetsOtherThanGoodwill                                                               \n17                 dart_DepositsForSeveranceInsurance                                                               \n18                        ifrs-full_DeferredTaxAssets                                                               \n19                         dart_OtherNonCurrentAssets                                                               \n20                                   ifrs-full_Assets                                                               \n21                       ifrs-full_CurrentLiabilities                                                               \n22  entity00126380_udf_BS_20171018222617796_Curren...                                                               \n23                      ifrs-full_ShorttermBorrowings                                                               \n24  entity00126380_udf_BS_20171018222642264_Curren...                                                               \n25  entity00126380_udf_BS_20171018222640707_Curren...                                                               \n26  entity00126380_udf_BS_20171018222637261_Curren...                                                               \n27  entity00126380_udf_BS_20171018222635206_Curren...                                                               \n28                    ifrs-full_CurrentTaxLiabilities                                                               \n29  entity00126380_udf_BS_20171024141934989_Curren...                                                               \n30                        ifrs-full_CurrentProvisions                                                               \n31                       dart_OtherCurrentLiabilities                                                               \n32  entity00126380_udf_BS_20201022192755790_Curren...                                                               \n33                    ifrs-full_NoncurrentLiabilities                                                               \n34                                   dart_BondsIssued                                                               \n35                       dart_LongTermBorrowingsGross                                                               \n36                    dart_LongTermOtherPayablesGross                                                               \n37              dart_PostemploymentBenefitObligations                                                               \n38                   ifrs-full_DeferredTaxLiabilities                                                               \n39                     ifrs-full_NoncurrentProvisions                                                               \n40                    dart_OtherNonCurrentLiabilities                                                               \n41                              ifrs-full_Liabilities                                                               \n42       ifrs-full_EquityAttributableToOwnersOfParent                                                               \n43                            ifrs-full_IssuedCapital                                                               \n44                 dart_IssuedCapitalOfPreferredStock                                                               \n45                    dart_IssuedCapitalOfCommonStock                                                               \n46                             ifrs-full_SharePremium                                                               \n47                         ifrs-full_RetainedEarnings                                                               \n48             dart_ElementsOfOtherStockholdersEquity                                                               \n49  entity00126380_udf_BS_20201022192911508_Equity...                                                               \n50                  ifrs-full_NoncontrollingInterests                                                               \n51                                   ifrs-full_Equity                                                               \n52                     ifrs-full_EquityAndLiabilities                                                               \n\n                                                                        \\\n           label_ko                                           label_en   \n0              유동자산                                     Current assets   \n1          현금및현금성자산                          Cash and cash equivalents   \n2            단기금융상품                   Short-term financial instruments   \n3       단기상각후원가금융자산      Short-term financial assets at amortized cost   \n4   단기당기손익-공정가치금융자산  Short-term financial assets at fair value thro...   \n5              매출채권                                  Trade receivables   \n6               미수금                              Non-trade receivables   \n7              선급비용                                   Prepaid expenses   \n8              재고자산                                        Inventories   \n9            기타유동자산                               Other current assets   \n10         매각예정분류자산                               Assets held-for-sale   \n11            비유동자산                                 Non-current assets   \n12  기타포괄손익-공정가치금융자산  Financial assets at fair value through other c...   \n13    당기손익-공정가치금융자산  Financial assets at fair value through profit ...   \n14   관계기업 및 공동기업 투자        Investment in associates and joint ventures   \n15             유형자산                      Property, plant and equipment   \n16             무형자산                                  Intangible assets   \n17          순확정급여자산                         Net defined benefit assets   \n18          이연법인세자산                         Deferred income tax assets   \n19          기타비유동자산                           Other non-current assets   \n20             자산총계                                       Total assets   \n21             유동부채                                Current liabilities   \n22             매입채무                                     Trade payables   \n23            단기차입금                              Short-term borrowings   \n24             미지급금                                     Other payables   \n25              선수금                                  Advances received   \n26              예수금                                       Withholdings   \n27            미지급비용                                   Accrued expenses   \n28          당기법인세부채                     Current income tax liabilities   \n29          유동성장기부채           Current portion of long-term liabilities   \n30             충당부채                                         Provisions   \n31           기타유동부채                          Other current liabilities   \n32         매각예정분류부채                          Liabilities held-for-sale   \n33            비유동부채                            Non-current liabilities   \n34               사채                                         Debentures   \n35            장기차입금                               Long-term borrowings   \n36           장기미지급금                           Long-term other payables   \n37          순확정급여부채                    Net defined benefit liabilities   \n38          이연법인세부채                    Deferred income tax liabilities   \n39           장기충당부채                               Long-term provisions   \n40          기타비유동부채                      Other non-current liabilities   \n41             부채총계                                  Total liabilities   \n42       지배기업 소유주지분  Equity attributable to owners of the parent co...   \n43              자본금                                     Issued capital   \n44           우선주자본금                                  Preference shares   \n45           보통주자본금                                    Ordinary shares   \n46          주식발행초과금                                      Share premium   \n47       이익잉여금(결손금)                                  Retained earnings   \n48           기타자본항목                         Other components of equity   \n49     매각예정분류기타자본항목  Accumulated other comprehensive income attribu...   \n50            비지배지분                          Non-controlling interests   \n51             자본총계                                       Total equity   \n52          부채와자본총계                       Total liabilities and equity   \n\n                                                                          \\\n              class0         class1      class2           class3  class4   \n0   재무상태표 [abstract]  자산 [abstract]        유동자산             None    None   \n1   재무상태표 [abstract]  자산 [abstract]        유동자산         현금및현금성자산    None   \n2   재무상태표 [abstract]  자산 [abstract]        유동자산           단기금융상품    None   \n3   재무상태표 [abstract]  자산 [abstract]        유동자산      단기상각후원가금융자산    None   \n4   재무상태표 [abstract]  자산 [abstract]        유동자산  단기당기손익-공정가치금융자산    None   \n5   재무상태표 [abstract]  자산 [abstract]        유동자산             매출채권    None   \n6   재무상태표 [abstract]  자산 [abstract]        유동자산              미수금    None   \n7   재무상태표 [abstract]  자산 [abstract]        유동자산             선급비용    None   \n8   재무상태표 [abstract]  자산 [abstract]        유동자산             재고자산    None   \n9   재무상태표 [abstract]  자산 [abstract]        유동자산           기타유동자산    None   \n10  재무상태표 [abstract]  자산 [abstract]        유동자산         매각예정분류자산    None   \n11  재무상태표 [abstract]  자산 [abstract]       비유동자산             None    None   \n12  재무상태표 [abstract]  자산 [abstract]       비유동자산  기타포괄손익-공정가치금융자산    None   \n13  재무상태표 [abstract]  자산 [abstract]       비유동자산    당기손익-공정가치금융자산    None   \n14  재무상태표 [abstract]  자산 [abstract]       비유동자산   관계기업 및 공동기업 투자    None   \n15  재무상태표 [abstract]  자산 [abstract]       비유동자산             유형자산    None   \n16  재무상태표 [abstract]  자산 [abstract]       비유동자산             무형자산    None   \n17  재무상태표 [abstract]  자산 [abstract]       비유동자산          순확정급여자산    None   \n18  재무상태표 [abstract]  자산 [abstract]       비유동자산          이연법인세자산    None   \n19  재무상태표 [abstract]  자산 [abstract]       비유동자산          기타비유동자산    None   \n20  재무상태표 [abstract]  자산 [abstract]        자산총계             None    None   \n21  재무상태표 [abstract]  부채 [abstract]        유동부채             None    None   \n22  재무상태표 [abstract]  부채 [abstract]        유동부채             매입채무    None   \n23  재무상태표 [abstract]  부채 [abstract]        유동부채            단기차입금    None   \n24  재무상태표 [abstract]  부채 [abstract]        유동부채             미지급금    None   \n25  재무상태표 [abstract]  부채 [abstract]        유동부채              선수금    None   \n26  재무상태표 [abstract]  부채 [abstract]        유동부채              예수금    None   \n27  재무상태표 [abstract]  부채 [abstract]        유동부채            미지급비용    None   \n28  재무상태표 [abstract]  부채 [abstract]        유동부채          당기법인세부채    None   \n29  재무상태표 [abstract]  부채 [abstract]        유동부채          유동성장기부채    None   \n30  재무상태표 [abstract]  부채 [abstract]        유동부채             충당부채    None   \n31  재무상태표 [abstract]  부채 [abstract]        유동부채           기타유동부채    None   \n32  재무상태표 [abstract]  부채 [abstract]        유동부채         매각예정분류부채    None   \n33  재무상태표 [abstract]  부채 [abstract]       비유동부채             None    None   \n34  재무상태표 [abstract]  부채 [abstract]       비유동부채               사채    None   \n35  재무상태표 [abstract]  부채 [abstract]       비유동부채            장기차입금    None   \n36  재무상태표 [abstract]  부채 [abstract]       비유동부채           장기미지급금    None   \n37  재무상태표 [abstract]  부채 [abstract]       비유동부채          순확정급여부채    None   \n38  재무상태표 [abstract]  부채 [abstract]       비유동부채          이연법인세부채    None   \n39  재무상태표 [abstract]  부채 [abstract]       비유동부채           장기충당부채    None   \n40  재무상태표 [abstract]  부채 [abstract]       비유동부채          기타비유동부채    None   \n41  재무상태표 [abstract]  부채 [abstract]        부채총계             None    None   \n42  재무상태표 [abstract]  자본 [abstract]  지배기업 소유주지분             None    None   \n43  재무상태표 [abstract]  자본 [abstract]  지배기업 소유주지분              자본금    None   \n44  재무상태표 [abstract]  자본 [abstract]  지배기업 소유주지분              자본금  우선주자본금   \n45  재무상태표 [abstract]  자본 [abstract]  지배기업 소유주지분              자본금  보통주자본금   \n46  재무상태표 [abstract]  자본 [abstract]  지배기업 소유주지분          주식발행초과금    None   \n47  재무상태표 [abstract]  자본 [abstract]  지배기업 소유주지분       이익잉여금(결손금)    None   \n48  재무상태표 [abstract]  자본 [abstract]  지배기업 소유주지분           기타자본항목    None   \n49  재무상태표 [abstract]  자본 [abstract]  지배기업 소유주지분     매각예정분류기타자본항목    None   \n50  재무상태표 [abstract]  자본 [abstract]       비지배지분             None    None   \n51  재무상태표 [abstract]  자본 [abstract]        자본총계             None    None   \n52  재무상태표 [abstract]        부채와자본총계        None             None    None   \n\n                20211231              20201231              20191231  \\\n               (연결재무제표,)             (연결재무제표,)             (연결재무제표,)   \n0  218,163,185,000,000.0 198,215,579,000,000.0 181,385,260,000,000.0   \n1   39,031,415,000,000.0  29,382,578,000,000.0  26,885,999,000,000.0   \n2   81,708,986,000,000.0  92,441,703,000,000.0  76,252,052,000,000.0   \n3    3,369,034,000,000.0   2,757,111,000,000.0   3,914,216,000,000.0   \n4       40,757,000,000.0      71,451,000,000.0   1,727,436,000,000.0   \n5   40,713,415,000,000.0  30,965,058,000,000.0  35,131,343,000,000.0   \n6    4,497,257,000,000.0   3,604,539,000,000.0   4,179,120,000,000.0   \n7    2,336,252,000,000.0   2,266,100,000,000.0   2,406,220,000,000.0   \n8   41,384,404,000,000.0  32,043,145,000,000.0  26,766,464,000,000.0   \n9    5,081,665,000,000.0   3,754,462,000,000.0   4,122,410,000,000.0   \n10                   0.0     929,432,000,000.0                   0.0   \n11 208,457,973,000,000.0 180,020,139,000,000.0 171,179,237,000,000.0   \n12  13,965,839,000,000.0  12,575,216,000,000.0   8,920,712,000,000.0   \n13   1,525,344,000,000.0   1,202,969,000,000.0   1,049,004,000,000.0   \n14   8,932,251,000,000.0   8,076,779,000,000.0   7,591,612,000,000.0   \n15 149,928,539,000,000.0 128,952,892,000,000.0 119,825,474,000,000.0   \n16  20,236,244,000,000.0  18,468,502,000,000.0  20,703,504,000,000.0   \n17   2,809,590,000,000.0   1,355,502,000,000.0     589,832,000,000.0   \n18   4,261,214,000,000.0   4,275,000,000,000.0   4,505,049,000,000.0   \n19   6,798,952,000,000.0   5,113,279,000,000.0   7,994,050,000,000.0   \n20 426,621,158,000,000.0 378,235,718,000,000.0 352,564,497,000,000.0   \n21  88,117,133,000,000.0  75,604,351,000,000.0  63,782,764,000,000.0   \n22  13,453,351,000,000.0   9,739,222,000,000.0   8,718,222,000,000.0   \n23  13,687,793,000,000.0  16,553,429,000,000.0  14,393,468,000,000.0   \n24  15,584,866,000,000.0  11,899,022,000,000.0  12,002,513,000,000.0   \n25   1,224,812,000,000.0   1,145,423,000,000.0   1,072,062,000,000.0   \n26   1,294,052,000,000.0     974,521,000,000.0     897,355,000,000.0   \n27  27,928,031,000,000.0  24,330,339,000,000.0  19,359,624,000,000.0   \n28   6,749,149,000,000.0   4,430,272,000,000.0   1,387,773,000,000.0   \n29   1,329,968,000,000.0     716,099,000,000.0     846,090,000,000.0   \n30   5,372,872,000,000.0   4,349,563,000,000.0   4,068,627,000,000.0   \n31   1,492,239,000,000.0   1,127,719,000,000.0   1,037,030,000,000.0   \n32                   0.0     338,742,000,000.0                   0.0   \n33  33,604,094,000,000.0  26,683,351,000,000.0  25,901,312,000,000.0   \n34     508,232,000,000.0     948,137,000,000.0     975,298,000,000.0   \n35   2,866,156,000,000.0   1,999,716,000,000.0   2,197,181,000,000.0   \n36   2,991,440,000,000.0   1,682,910,000,000.0   2,184,249,000,000.0   \n37     465,884,000,000.0     464,458,000,000.0     470,780,000,000.0   \n38  23,198,205,000,000.0  18,810,845,000,000.0  17,053,808,000,000.0   \n39   2,306,994,000,000.0   1,051,428,000,000.0     611,100,000,000.0   \n40   1,267,183,000,000.0   1,725,857,000,000.0   2,408,896,000,000.0   \n41 121,721,227,000,000.0 102,287,702,000,000.0  89,684,076,000,000.0   \n42 296,237,697,000,000.0 267,670,331,000,000.0 254,915,472,000,000.0   \n43     897,514,000,000.0     897,514,000,000.0     897,514,000,000.0   \n44     119,467,000,000.0     119,467,000,000.0     119,467,000,000.0   \n45     778,047,000,000.0     778,047,000,000.0     778,047,000,000.0   \n46   4,403,893,000,000.0   4,403,893,000,000.0   4,403,893,000,000.0   \n47 293,064,763,000,000.0 271,068,211,000,000.0 254,582,894,000,000.0   \n48  -2,128,473,000,000.0  -8,687,155,000,000.0  -4,968,829,000,000.0   \n49                   0.0     -12,132,000,000.0                   0.0   \n50   8,662,234,000,000.0   8,277,685,000,000.0   7,964,949,000,000.0   \n51 304,899,931,000,000.0 275,948,016,000,000.0 262,880,421,000,000.0   \n52 426,621,158,000,000.0 378,235,718,000,000.0 352,564,497,000,000.0   \n\n                20181231              20171231              20161231  \n               (연결재무제표,)             (연결재무제표,)             (연결재무제표,)  \n0  174,697,424,000,000.0 146,982,464,000,000.0 141,429,704,000,000.0  \n1   30,340,505,000,000.0  30,545,130,000,000.0  32,111,442,000,000.0  \n2   65,893,797,000,000.0  49,447,696,000,000.0  52,432,411,000,000.0  \n3    2,703,693,000,000.0                   NaN                   NaN  \n4    2,001,948,000,000.0                   NaN                   NaN  \n5   33,867,733,000,000.0  27,695,995,000,000.0  24,279,211,000,000.0  \n6    3,080,733,000,000.0   4,108,961,000,000.0   3,521,197,000,000.0  \n7    4,136,167,000,000.0   3,835,219,000,000.0   3,502,083,000,000.0  \n8   28,984,704,000,000.0  24,983,355,000,000.0  18,353,503,000,000.0  \n9    3,688,144,000,000.0   1,421,060,000,000.0   1,315,653,000,000.0  \n10                   0.0                   NaN     835,806,000,000.0  \n11 164,659,820,000,000.0 154,769,626,000,000.0 120,744,620,000,000.0  \n12   7,301,351,000,000.0                   NaN                   NaN  \n13     775,427,000,000.0                   NaN                   NaN  \n14   7,313,206,000,000.0   6,802,351,000,000.0   5,837,884,000,000.0  \n15 115,416,724,000,000.0 111,665,648,000,000.0  91,473,041,000,000.0  \n16  14,891,598,000,000.0  14,760,483,000,000.0   5,344,020,000,000.0  \n17     562,356,000,000.0     825,892,000,000.0     557,091,000,000.0  \n18   5,468,002,000,000.0   5,061,687,000,000.0   5,321,450,000,000.0  \n19  12,692,847,000,000.0   7,794,634,000,000.0   1,572,027,000,000.0  \n20 339,357,244,000,000.0 301,752,090,000,000.0 262,174,324,000,000.0  \n21  69,081,510,000,000.0  67,175,114,000,000.0  54,704,095,000,000.0  \n22   8,479,916,000,000.0   9,083,907,000,000.0   6,485,039,000,000.0  \n23  13,586,660,000,000.0  15,767,619,000,000.0  12,746,789,000,000.0  \n24  10,711,536,000,000.0  13,899,633,000,000.0  11,525,910,000,000.0  \n25     820,265,000,000.0   1,249,174,000,000.0   1,358,878,000,000.0  \n26     951,254,000,000.0     793,582,000,000.0     685,028,000,000.0  \n27  20,339,687,000,000.0  13,996,273,000,000.0  12,527,300,000,000.0  \n28   8,720,050,000,000.0   7,408,348,000,000.0   2,837,353,000,000.0  \n29      33,386,000,000.0     278,619,000,000.0   1,232,817,000,000.0  \n30   4,384,038,000,000.0   4,294,820,000,000.0   4,597,417,000,000.0  \n31   1,054,718,000,000.0     403,139,000,000.0     351,176,000,000.0  \n32     238,309,000,000.0                   NaN                   NaN  \n33  22,522,557,000,000.0  20,085,548,000,000.0  14,507,196,000,000.0  \n34     961,972,000,000.0     953,361,000,000.0      58,542,000,000.0  \n35      85,085,000,000.0   1,814,446,000,000.0   1,244,238,000,000.0  \n36   3,194,043,000,000.0   2,043,729,000,000.0   3,317,054,000,000.0  \n37     504,064,000,000.0     389,922,000,000.0     173,656,000,000.0  \n38  15,162,523,000,000.0  11,710,781,000,000.0   7,293,514,000,000.0  \n39     663,619,000,000.0     464,324,000,000.0     358,126,000,000.0  \n40   1,951,251,000,000.0   2,708,985,000,000.0   2,062,066,000,000.0  \n41  91,604,067,000,000.0  87,260,662,000,000.0  69,211,291,000,000.0  \n42 240,068,993,000,000.0 207,213,416,000,000.0 186,424,328,000,000.0  \n43     897,514,000,000.0     897,514,000,000.0     897,514,000,000.0  \n44     119,467,000,000.0     119,467,000,000.0     119,467,000,000.0  \n45     778,047,000,000.0     778,047,000,000.0     778,047,000,000.0  \n46   4,403,893,000,000.0   4,403,893,000,000.0   4,403,893,000,000.0  \n47 242,698,956,000,000.0 215,811,200,000,000.0 193,086,317,000,000.0  \n48  -7,931,370,000,000.0 -13,899,191,000,000.0 -11,934,586,000,000.0  \n49                   0.0                   NaN     356,388,000,000.0  \n50   7,684,184,000,000.0   7,278,012,000,000.0   6,538,705,000,000.0  \n51 247,753,177,000,000.0 214,491,428,000,000.0 192,963,033,000,000.0  \n52 339,357,244,000,000.0 301,752,090,000,000.0 262,174,324,000,000.0  ",
      "text/html": "<div>\n<style scoped>\n    .dataframe tbody tr th:only-of-type {\n        vertical-align: middle;\n    }\n\n    .dataframe tbody tr th {\n        vertical-align: top;\n    }\n\n    .dataframe thead tr th {\n        text-align: left;\n    }\n</style>\n<table border=\"1\" class=\"dataframe\">\n  <thead>\n    <tr>\n      <th></th>\n      <th colspan=\"8\" halign=\"left\">[D210000] Statement of financial position, current/non-current - Consolidated financial statements (Unit: KRW)</th>\n      <th>20211231</th>\n      <th>20201231</th>\n      <th>20191231</th>\n      <th>20181231</th>\n      <th>20171231</th>\n      <th>20161231</th>\n    </tr>\n    <tr>\n      <th></th>\n      <th>concept_id</th>\n      <th>label_ko</th>\n      <th>label_en</th>\n      <th>class0</th>\n      <th>class1</th>\n      <th>class2</th>\n      <th>class3</th>\n      <th>class4</th>\n      <th>(연결재무제표,)</th>\n      <th>(연결재무제표,)</th>\n      <th>(연결재무제표,)</th>\n      <th>(연결재무제표,)</th>\n      <th>(연결재무제표,)</th>\n      <th>(연결재무제표,)</th>\n    </tr>\n  </thead>\n  <tbody>\n    <tr>\n      <th>0</th>\n      <td>ifrs-full_CurrentAssets</td>\n      <td>유동자산</td>\n      <td>Current assets</td>\n      <td>재무상태표 [abstract]</td>\n      <td>자산 [abstract]</td>\n      <td>유동자산</td>\n      <td>None</td>\n      <td>None</td>\n      <td>218,163,185,000,000.0</td>\n      <td>198,215,579,000,000.0</td>\n      <td>181,385,260,000,000.0</td>\n      <td>174,697,424,000,000.0</td>\n      <td>146,982,464,000,000.0</td>\n      <td>141,429,704,000,000.0</td>\n    </tr>\n    <tr>\n      <th>1</th>\n      <td>ifrs-full_CashAndCashEquivalents</td>\n      <td>현금및현금성자산</td>\n      <td>Cash and cash equivalents</td>\n      <td>재무상태표 [abstract]</td>\n      <td>자산 [abstract]</td>\n      <td>유동자산</td>\n      <td>현금및현금성자산</td>\n      <td>None</td>\n      <td>39,031,415,000,000.0</td>\n      <td>29,382,578,000,000.0</td>\n      <td>26,885,999,000,000.0</td>\n      <td>30,340,505,000,000.0</td>\n      <td>30,545,130,000,000.0</td>\n      <td>32,111,442,000,000.0</td>\n    </tr>\n    <tr>\n      <th>2</th>\n      <td>dart_ShortTermDepositsNotClassifiedAsCashEquiv...</td>\n      <td>단기금융상품</td>\n      <td>Short-term financial instruments</td>\n      <td>재무상태표 [abstract]</td>\n      <td>자산 [abstract]</td>\n      <td>유동자산</td>\n      <td>단기금융상품</td>\n      <td>None</td>\n      <td>81,708,986,000,000.0</td>\n      <td>92,441,703,000,000.0</td>\n      <td>76,252,052,000,000.0</td>\n      <td>65,893,797,000,000.0</td>\n      <td>49,447,696,000,000.0</td>\n      <td>52,432,411,000,000.0</td>\n    </tr>\n    <tr>\n      <th>3</th>\n      <td>entity00126380_udf_BS_201851017339116_CurrentA...</td>\n      <td>단기상각후원가금융자산</td>\n      <td>Short-term financial assets at amortized cost</td>\n      <td>재무상태표 [abstract]</td>\n      <td>자산 [abstract]</td>\n      <td>유동자산</td>\n      <td>단기상각후원가금융자산</td>\n      <td>None</td>\n      <td>3,369,034,000,000.0</td>\n      <td>2,757,111,000,000.0</td>\n      <td>3,914,216,000,000.0</td>\n      <td>2,703,693,000,000.0</td>\n      <td>NaN</td>\n      <td>NaN</td>\n    </tr>\n    <tr>\n      <th>4</th>\n      <td>ifrs-full_CurrentFinancialAssetsAtFairValueThr...</td>\n      <td>단기당기손익-공정가치금융자산</td>\n      <td>Short-term financial assets at fair value thro...</td>\n      <td>재무상태표 [abstract]</td>\n      <td>자산 [abstract]</td>\n      <td>유동자산</td>\n      <td>단기당기손익-공정가치금융자산</td>\n      <td>None</td>\n      <td>40,757,000,000.0</td>\n      <td>71,451,000,000.0</td>\n      <td>1,727,436,000,000.0</td>\n      <td>2,001,948,000,000.0</td>\n      <td>NaN</td>\n      <td>NaN</td>\n    </tr>\n    <tr>\n      <th>5</th>\n      <td>dart_ShortTermTradeReceivable</td>\n      <td>매출채권</td>\n      <td>Trade receivables</td>\n      <td>재무상태표 [abstract]</td>\n      <td>자산 [abstract]</td>\n      <td>유동자산</td>\n      <td>매출채권</td>\n      <td>None</td>\n      <td>40,713,415,000,000.0</td>\n      <td>30,965,058,000,000.0</td>\n      <td>35,131,343,000,000.0</td>\n      <td>33,867,733,000,000.0</td>\n      <td>27,695,995,000,000.0</td>\n      <td>24,279,211,000,000.0</td>\n    </tr>\n    <tr>\n      <th>6</th>\n      <td>entity00126380_udf_BS_201710182279121_CurrentA...</td>\n      <td>미수금</td>\n      <td>Non-trade receivables</td>\n      <td>재무상태표 [abstract]</td>\n      <td>자산 [abstract]</td>\n      <td>유동자산</td>\n      <td>미수금</td>\n      <td>None</td>\n      <td>4,497,257,000,000.0</td>\n      <td>3,604,539,000,000.0</td>\n      <td>4,179,120,000,000.0</td>\n      <td>3,080,733,000,000.0</td>\n      <td>4,108,961,000,000.0</td>\n      <td>3,521,197,000,000.0</td>\n    </tr>\n    <tr>\n      <th>7</th>\n      <td>entity00126380_udf_BS_2017101822109437_Current...</td>\n      <td>선급비용</td>\n      <td>Prepaid expenses</td>\n      <td>재무상태표 [abstract]</td>\n      <td>자산 [abstract]</td>\n      <td>유동자산</td>\n      <td>선급비용</td>\n      <td>None</td>\n      <td>2,336,252,000,000.0</td>\n      <td>2,266,100,000,000.0</td>\n      <td>2,406,220,000,000.0</td>\n      <td>4,136,167,000,000.0</td>\n      <td>3,835,219,000,000.0</td>\n      <td>3,502,083,000,000.0</td>\n    </tr>\n    <tr>\n      <th>8</th>\n      <td>ifrs-full_Inventories</td>\n      <td>재고자산</td>\n      <td>Inventories</td>\n      <td>재무상태표 [abstract]</td>\n      <td>자산 [abstract]</td>\n      <td>유동자산</td>\n      <td>재고자산</td>\n      <td>None</td>\n      <td>41,384,404,000,000.0</td>\n      <td>32,043,145,000,000.0</td>\n      <td>26,766,464,000,000.0</td>\n      <td>28,984,704,000,000.0</td>\n      <td>24,983,355,000,000.0</td>\n      <td>18,353,503,000,000.0</td>\n    </tr>\n    <tr>\n      <th>9</th>\n      <td>dart_OtherCurrentAssets</td>\n      <td>기타유동자산</td>\n      <td>Other current assets</td>\n      <td>재무상태표 [abstract]</td>\n      <td>자산 [abstract]</td>\n      <td>유동자산</td>\n      <td>기타유동자산</td>\n      <td>None</td>\n      <td>5,081,665,000,000.0</td>\n      <td>3,754,462,000,000.0</td>\n      <td>4,122,410,000,000.0</td>\n      <td>3,688,144,000,000.0</td>\n      <td>1,421,060,000,000.0</td>\n      <td>1,315,653,000,000.0</td>\n    </tr>\n    <tr>\n      <th>10</th>\n      <td>entity00126380_udf_BS_20201022194537291_Curren...</td>\n      <td>매각예정분류자산</td>\n      <td>Assets held-for-sale</td>\n      <td>재무상태표 [abstract]</td>\n      <td>자산 [abstract]</td>\n      <td>유동자산</td>\n      <td>매각예정분류자산</td>\n      <td>None</td>\n      <td>0.0</td>\n      <td>929,432,000,000.0</td>\n      <td>0.0</td>\n      <td>0.0</td>\n      <td>NaN</td>\n      <td>835,806,000,000.0</td>\n    </tr>\n    <tr>\n      <th>11</th>\n      <td>ifrs-full_NoncurrentAssets</td>\n      <td>비유동자산</td>\n      <td>Non-current assets</td>\n      <td>재무상태표 [abstract]</td>\n      <td>자산 [abstract]</td>\n      <td>비유동자산</td>\n      <td>None</td>\n      <td>None</td>\n      <td>208,457,973,000,000.0</td>\n      <td>180,020,139,000,000.0</td>\n      <td>171,179,237,000,000.0</td>\n      <td>164,659,820,000,000.0</td>\n      <td>154,769,626,000,000.0</td>\n      <td>120,744,620,000,000.0</td>\n    </tr>\n    <tr>\n      <th>12</th>\n      <td>entity00126380_udf_BS_201851017830322_Noncurre...</td>\n      <td>기타포괄손익-공정가치금융자산</td>\n      <td>Financial assets at fair value through other c...</td>\n      <td>재무상태표 [abstract]</td>\n      <td>자산 [abstract]</td>\n      <td>비유동자산</td>\n      <td>기타포괄손익-공정가치금융자산</td>\n      <td>None</td>\n      <td>13,965,839,000,000.0</td>\n      <td>12,575,216,000,000.0</td>\n      <td>8,920,712,000,000.0</td>\n      <td>7,301,351,000,000.0</td>\n      <td>NaN</td>\n      <td>NaN</td>\n    </tr>\n    <tr>\n      <th>13</th>\n      <td>entity00126380_udf_BS_201851017832579_Noncurre...</td>\n      <td>당기손익-공정가치금융자산</td>\n      <td>Financial assets at fair value through profit ...</td>\n      <td>재무상태표 [abstract]</td>\n      <td>자산 [abstract]</td>\n      <td>비유동자산</td>\n      <td>당기손익-공정가치금융자산</td>\n      <td>None</td>\n      <td>1,525,344,000,000.0</td>\n      <td>1,202,969,000,000.0</td>\n      <td>1,049,004,000,000.0</td>\n      <td>775,427,000,000.0</td>\n      <td>NaN</td>\n      <td>NaN</td>\n    </tr>\n    <tr>\n      <th>14</th>\n      <td>entity00126380_udf_BS_20171018221637438_Noncur...</td>\n      <td>관계기업 및 공동기업 투자</td>\n      <td>Investment in associates and joint ventures</td>\n      <td>재무상태표 [abstract]</td>\n      <td>자산 [abstract]</td>\n      <td>비유동자산</td>\n      <td>관계기업 및 공동기업 투자</td>\n      <td>None</td>\n      <td>8,932,251,000,000.0</td>\n      <td>8,076,779,000,000.0</td>\n      <td>7,591,612,000,000.0</td>\n      <td>7,313,206,000,000.0</td>\n      <td>6,802,351,000,000.0</td>\n      <td>5,837,884,000,000.0</td>\n    </tr>\n    <tr>\n      <th>15</th>\n      <td>ifrs-full_PropertyPlantAndEquipment</td>\n      <td>유형자산</td>\n      <td>Property, plant and equipment</td>\n      <td>재무상태표 [abstract]</td>\n      <td>자산 [abstract]</td>\n      <td>비유동자산</td>\n      <td>유형자산</td>\n      <td>None</td>\n      <td>149,928,539,000,000.0</td>\n      <td>128,952,892,000,000.0</td>\n      <td>119,825,474,000,000.0</td>\n      <td>115,416,724,000,000.0</td>\n      <td>111,665,648,000,000.0</td>\n      <td>91,473,041,000,000.0</td>\n    </tr>\n    <tr>\n      <th>16</th>\n      <td>ifrs-full_IntangibleAssetsOtherThanGoodwill</td>\n      <td>무형자산</td>\n      <td>Intangible assets</td>\n      <td>재무상태표 [abstract]</td>\n      <td>자산 [abstract]</td>\n      <td>비유동자산</td>\n      <td>무형자산</td>\n      <td>None</td>\n      <td>20,236,244,000,000.0</td>\n      <td>18,468,502,000,000.0</td>\n      <td>20,703,504,000,000.0</td>\n      <td>14,891,598,000,000.0</td>\n      <td>14,760,483,000,000.0</td>\n      <td>5,344,020,000,000.0</td>\n    </tr>\n    <tr>\n      <th>17</th>\n      <td>dart_DepositsForSeveranceInsurance</td>\n      <td>순확정급여자산</td>\n      <td>Net defined benefit assets</td>\n      <td>재무상태표 [abstract]</td>\n      <td>자산 [abstract]</td>\n      <td>비유동자산</td>\n      <td>순확정급여자산</td>\n      <td>None</td>\n      <td>2,809,590,000,000.0</td>\n      <td>1,355,502,000,000.0</td>\n      <td>589,832,000,000.0</td>\n      <td>562,356,000,000.0</td>\n      <td>825,892,000,000.0</td>\n      <td>557,091,000,000.0</td>\n    </tr>\n    <tr>\n      <th>18</th>\n      <td>ifrs-full_DeferredTaxAssets</td>\n      <td>이연법인세자산</td>\n      <td>Deferred income tax assets</td>\n      <td>재무상태표 [abstract]</td>\n      <td>자산 [abstract]</td>\n      <td>비유동자산</td>\n      <td>이연법인세자산</td>\n      <td>None</td>\n      <td>4,261,214,000,000.0</td>\n      <td>4,275,000,000,000.0</td>\n      <td>4,505,049,000,000.0</td>\n      <td>5,468,002,000,000.0</td>\n      <td>5,061,687,000,000.0</td>\n      <td>5,321,450,000,000.0</td>\n    </tr>\n    <tr>\n      <th>19</th>\n      <td>dart_OtherNonCurrentAssets</td>\n      <td>기타비유동자산</td>\n      <td>Other non-current assets</td>\n      <td>재무상태표 [abstract]</td>\n      <td>자산 [abstract]</td>\n      <td>비유동자산</td>\n      <td>기타비유동자산</td>\n      <td>None</td>\n      <td>6,798,952,000,000.0</td>\n      <td>5,113,279,000,000.0</td>\n      <td>7,994,050,000,000.0</td>\n      <td>12,692,847,000,000.0</td>\n      <td>7,794,634,000,000.0</td>\n      <td>1,572,027,000,000.0</td>\n    </tr>\n    <tr>\n      <th>20</th>\n      <td>ifrs-full_Assets</td>\n      <td>자산총계</td>\n      <td>Total assets</td>\n      <td>재무상태표 [abstract]</td>\n      <td>자산 [abstract]</td>\n      <td>자산총계</td>\n      <td>None</td>\n      <td>None</td>\n      <td>426,621,158,000,000.0</td>\n      <td>378,235,718,000,000.0</td>\n      <td>352,564,497,000,000.0</td>\n      <td>339,357,244,000,000.0</td>\n      <td>301,752,090,000,000.0</td>\n      <td>262,174,324,000,000.0</td>\n    </tr>\n    <tr>\n      <th>21</th>\n      <td>ifrs-full_CurrentLiabilities</td>\n      <td>유동부채</td>\n      <td>Current liabilities</td>\n      <td>재무상태표 [abstract]</td>\n      <td>부채 [abstract]</td>\n      <td>유동부채</td>\n      <td>None</td>\n      <td>None</td>\n      <td>88,117,133,000,000.0</td>\n      <td>75,604,351,000,000.0</td>\n      <td>63,782,764,000,000.0</td>\n      <td>69,081,510,000,000.0</td>\n      <td>67,175,114,000,000.0</td>\n      <td>54,704,095,000,000.0</td>\n    </tr>\n    <tr>\n      <th>22</th>\n      <td>entity00126380_udf_BS_20171018222617796_Curren...</td>\n      <td>매입채무</td>\n      <td>Trade payables</td>\n      <td>재무상태표 [abstract]</td>\n      <td>부채 [abstract]</td>\n      <td>유동부채</td>\n      <td>매입채무</td>\n      <td>None</td>\n      <td>13,453,351,000,000.0</td>\n      <td>9,739,222,000,000.0</td>\n      <td>8,718,222,000,000.0</td>\n      <td>8,479,916,000,000.0</td>\n      <td>9,083,907,000,000.0</td>\n      <td>6,485,039,000,000.0</td>\n    </tr>\n    <tr>\n      <th>23</th>\n      <td>ifrs-full_ShorttermBorrowings</td>\n      <td>단기차입금</td>\n      <td>Short-term borrowings</td>\n      <td>재무상태표 [abstract]</td>\n      <td>부채 [abstract]</td>\n      <td>유동부채</td>\n      <td>단기차입금</td>\n      <td>None</td>\n      <td>13,687,793,000,000.0</td>\n      <td>16,553,429,000,000.0</td>\n      <td>14,393,468,000,000.0</td>\n      <td>13,586,660,000,000.0</td>\n      <td>15,767,619,000,000.0</td>\n      <td>12,746,789,000,000.0</td>\n    </tr>\n    <tr>\n      <th>24</th>\n      <td>entity00126380_udf_BS_20171018222642264_Curren...</td>\n      <td>미지급금</td>\n      <td>Other payables</td>\n      <td>재무상태표 [abstract]</td>\n      <td>부채 [abstract]</td>\n      <td>유동부채</td>\n      <td>미지급금</td>\n      <td>None</td>\n      <td>15,584,866,000,000.0</td>\n      <td>11,899,022,000,000.0</td>\n      <td>12,002,513,000,000.0</td>\n      <td>10,711,536,000,000.0</td>\n      <td>13,899,633,000,000.0</td>\n      <td>11,525,910,000,000.0</td>\n    </tr>\n    <tr>\n      <th>25</th>\n      <td>entity00126380_udf_BS_20171018222640707_Curren...</td>\n      <td>선수금</td>\n      <td>Advances received</td>\n      <td>재무상태표 [abstract]</td>\n      <td>부채 [abstract]</td>\n      <td>유동부채</td>\n      <td>선수금</td>\n      <td>None</td>\n      <td>1,224,812,000,000.0</td>\n      <td>1,145,423,000,000.0</td>\n      <td>1,072,062,000,000.0</td>\n      <td>820,265,000,000.0</td>\n      <td>1,249,174,000,000.0</td>\n      <td>1,358,878,000,000.0</td>\n    </tr>\n    <tr>\n      <th>26</th>\n      <td>entity00126380_udf_BS_20171018222637261_Curren...</td>\n      <td>예수금</td>\n      <td>Withholdings</td>\n      <td>재무상태표 [abstract]</td>\n      <td>부채 [abstract]</td>\n      <td>유동부채</td>\n      <td>예수금</td>\n      <td>None</td>\n      <td>1,294,052,000,000.0</td>\n      <td>974,521,000,000.0</td>\n      <td>897,355,000,000.0</td>\n      <td>951,254,000,000.0</td>\n      <td>793,582,000,000.0</td>\n      <td>685,028,000,000.0</td>\n    </tr>\n    <tr>\n      <th>27</th>\n      <td>entity00126380_udf_BS_20171018222635206_Curren...</td>\n      <td>미지급비용</td>\n      <td>Accrued expenses</td>\n      <td>재무상태표 [abstract]</td>\n      <td>부채 [abstract]</td>\n      <td>유동부채</td>\n      <td>미지급비용</td>\n      <td>None</td>\n      <td>27,928,031,000,000.0</td>\n      <td>24,330,339,000,000.0</td>\n      <td>19,359,624,000,000.0</td>\n      <td>20,339,687,000,000.0</td>\n      <td>13,996,273,000,000.0</td>\n      <td>12,527,300,000,000.0</td>\n    </tr>\n    <tr>\n      <th>28</th>\n      <td>ifrs-full_CurrentTaxLiabilities</td>\n      <td>당기법인세부채</td>\n      <td>Current income tax liabilities</td>\n      <td>재무상태표 [abstract]</td>\n      <td>부채 [abstract]</td>\n      <td>유동부채</td>\n      <td>당기법인세부채</td>\n      <td>None</td>\n      <td>6,749,149,000,000.0</td>\n      <td>4,430,272,000,000.0</td>\n      <td>1,387,773,000,000.0</td>\n      <td>8,720,050,000,000.0</td>\n      <td>7,408,348,000,000.0</td>\n      <td>2,837,353,000,000.0</td>\n    </tr>\n    <tr>\n      <th>29</th>\n      <td>entity00126380_udf_BS_20171024141934989_Curren...</td>\n      <td>유동성장기부채</td>\n      <td>Current portion of long-term liabilities</td>\n      <td>재무상태표 [abstract]</td>\n      <td>부채 [abstract]</td>\n      <td>유동부채</td>\n      <td>유동성장기부채</td>\n      <td>None</td>\n      <td>1,329,968,000,000.0</td>\n      <td>716,099,000,000.0</td>\n      <td>846,090,000,000.0</td>\n      <td>33,386,000,000.0</td>\n      <td>278,619,000,000.0</td>\n      <td>1,232,817,000,000.0</td>\n    </tr>\n    <tr>\n      <th>30</th>\n      <td>ifrs-full_CurrentProvisions</td>\n      <td>충당부채</td>\n      <td>Provisions</td>\n      <td>재무상태표 [abstract]</td>\n      <td>부채 [abstract]</td>\n      <td>유동부채</td>\n      <td>충당부채</td>\n      <td>None</td>\n      <td>5,372,872,000,000.0</td>\n      <td>4,349,563,000,000.0</td>\n      <td>4,068,627,000,000.0</td>\n      <td>4,384,038,000,000.0</td>\n      <td>4,294,820,000,000.0</td>\n      <td>4,597,417,000,000.0</td>\n    </tr>\n    <tr>\n      <th>31</th>\n      <td>dart_OtherCurrentLiabilities</td>\n      <td>기타유동부채</td>\n      <td>Other current liabilities</td>\n      <td>재무상태표 [abstract]</td>\n      <td>부채 [abstract]</td>\n      <td>유동부채</td>\n      <td>기타유동부채</td>\n      <td>None</td>\n      <td>1,492,239,000,000.0</td>\n      <td>1,127,719,000,000.0</td>\n      <td>1,037,030,000,000.0</td>\n      <td>1,054,718,000,000.0</td>\n      <td>403,139,000,000.0</td>\n      <td>351,176,000,000.0</td>\n    </tr>\n    <tr>\n      <th>32</th>\n      <td>entity00126380_udf_BS_20201022192755790_Curren...</td>\n      <td>매각예정분류부채</td>\n      <td>Liabilities held-for-sale</td>\n      <td>재무상태표 [abstract]</td>\n      <td>부채 [abstract]</td>\n      <td>유동부채</td>\n      <td>매각예정분류부채</td>\n      <td>None</td>\n      <td>0.0</td>\n      <td>338,742,000,000.0</td>\n      <td>0.0</td>\n      <td>238,309,000,000.0</td>\n      <td>NaN</td>\n      <td>NaN</td>\n    </tr>\n    <tr>\n      <th>33</th>\n      <td>ifrs-full_NoncurrentLiabilities</td>\n      <td>비유동부채</td>\n      <td>Non-current liabilities</td>\n      <td>재무상태표 [abstract]</td>\n      <td>부채 [abstract]</td>\n      <td>비유동부채</td>\n      <td>None</td>\n      <td>None</td>\n      <td>33,604,094,000,000.0</td>\n      <td>26,683,351,000,000.0</td>\n      <td>25,901,312,000,000.0</td>\n      <td>22,522,557,000,000.0</td>\n      <td>20,085,548,000,000.0</td>\n      <td>14,507,196,000,000.0</td>\n    </tr>\n    <tr>\n      <th>34</th>\n      <td>dart_BondsIssued</td>\n      <td>사채</td>\n      <td>Debentures</td>\n      <td>재무상태표 [abstract]</td>\n      <td>부채 [abstract]</td>\n      <td>비유동부채</td>\n      <td>사채</td>\n      <td>None</td>\n      <td>508,232,000,000.0</td>\n      <td>948,137,000,000.0</td>\n      <td>975,298,000,000.0</td>\n      <td>961,972,000,000.0</td>\n      <td>953,361,000,000.0</td>\n      <td>58,542,000,000.0</td>\n    </tr>\n    <tr>\n      <th>35</th>\n      <td>dart_LongTermBorrowingsGross</td>\n      <td>장기차입금</td>\n      <td>Long-term borrowings</td>\n      <td>재무상태표 [abstract]</td>\n      <td>부채 [abstract]</td>\n      <td>비유동부채</td>\n      <td>장기차입금</td>\n      <td>None</td>\n      <td>2,866,156,000,000.0</td>\n      <td>1,999,716,000,000.0</td>\n      <td>2,197,181,000,000.0</td>\n      <td>85,085,000,000.0</td>\n      <td>1,814,446,000,000.0</td>\n      <td>1,244,238,000,000.0</td>\n    </tr>\n    <tr>\n      <th>36</th>\n      <td>dart_LongTermOtherPayablesGross</td>\n      <td>장기미지급금</td>\n      <td>Long-term other payables</td>\n      <td>재무상태표 [abstract]</td>\n      <td>부채 [abstract]</td>\n      <td>비유동부채</td>\n      <td>장기미지급금</td>\n      <td>None</td>\n      <td>2,991,440,000,000.0</td>\n      <td>1,682,910,000,000.0</td>\n      <td>2,184,249,000,000.0</td>\n      <td>3,194,043,000,000.0</td>\n      <td>2,043,729,000,000.0</td>\n      <td>3,317,054,000,000.0</td>\n    </tr>\n    <tr>\n      <th>37</th>\n      <td>dart_PostemploymentBenefitObligations</td>\n      <td>순확정급여부채</td>\n      <td>Net defined benefit liabilities</td>\n      <td>재무상태표 [abstract]</td>\n      <td>부채 [abstract]</td>\n      <td>비유동부채</td>\n      <td>순확정급여부채</td>\n      <td>None</td>\n      <td>465,884,000,000.0</td>\n      <td>464,458,000,000.0</td>\n      <td>470,780,000,000.0</td>\n      <td>504,064,000,000.0</td>\n      <td>389,922,000,000.0</td>\n      <td>173,656,000,000.0</td>\n    </tr>\n    <tr>\n      <th>38</th>\n      <td>ifrs-full_DeferredTaxLiabilities</td>\n      <td>이연법인세부채</td>\n      <td>Deferred income tax liabilities</td>\n      <td>재무상태표 [abstract]</td>\n      <td>부채 [abstract]</td>\n      <td>비유동부채</td>\n      <td>이연법인세부채</td>\n      <td>None</td>\n      <td>23,198,205,000,000.0</td>\n      <td>18,810,845,000,000.0</td>\n      <td>17,053,808,000,000.0</td>\n      <td>15,162,523,000,000.0</td>\n      <td>11,710,781,000,000.0</td>\n      <td>7,293,514,000,000.0</td>\n    </tr>\n    <tr>\n      <th>39</th>\n      <td>ifrs-full_NoncurrentProvisions</td>\n      <td>장기충당부채</td>\n      <td>Long-term provisions</td>\n      <td>재무상태표 [abstract]</td>\n      <td>부채 [abstract]</td>\n      <td>비유동부채</td>\n      <td>장기충당부채</td>\n      <td>None</td>\n      <td>2,306,994,000,000.0</td>\n      <td>1,051,428,000,000.0</td>\n      <td>611,100,000,000.0</td>\n      <td>663,619,000,000.0</td>\n      <td>464,324,000,000.0</td>\n      <td>358,126,000,000.0</td>\n    </tr>\n    <tr>\n      <th>40</th>\n      <td>dart_OtherNonCurrentLiabilities</td>\n      <td>기타비유동부채</td>\n      <td>Other non-current liabilities</td>\n      <td>재무상태표 [abstract]</td>\n      <td>부채 [abstract]</td>\n      <td>비유동부채</td>\n      <td>기타비유동부채</td>\n      <td>None</td>\n      <td>1,267,183,000,000.0</td>\n      <td>1,725,857,000,000.0</td>\n      <td>2,408,896,000,000.0</td>\n      <td>1,951,251,000,000.0</td>\n      <td>2,708,985,000,000.0</td>\n      <td>2,062,066,000,000.0</td>\n    </tr>\n    <tr>\n      <th>41</th>\n      <td>ifrs-full_Liabilities</td>\n      <td>부채총계</td>\n      <td>Total liabilities</td>\n      <td>재무상태표 [abstract]</td>\n      <td>부채 [abstract]</td>\n      <td>부채총계</td>\n      <td>None</td>\n      <td>None</td>\n      <td>121,721,227,000,000.0</td>\n      <td>102,287,702,000,000.0</td>\n      <td>89,684,076,000,000.0</td>\n      <td>91,604,067,000,000.0</td>\n      <td>87,260,662,000,000.0</td>\n      <td>69,211,291,000,000.0</td>\n    </tr>\n    <tr>\n      <th>42</th>\n      <td>ifrs-full_EquityAttributableToOwnersOfParent</td>\n      <td>지배기업 소유주지분</td>\n      <td>Equity attributable to owners of the parent co...</td>\n      <td>재무상태표 [abstract]</td>\n      <td>자본 [abstract]</td>\n      <td>지배기업 소유주지분</td>\n      <td>None</td>\n      <td>None</td>\n      <td>296,237,697,000,000.0</td>\n      <td>267,670,331,000,000.0</td>\n      <td>254,915,472,000,000.0</td>\n      <td>240,068,993,000,000.0</td>\n      <td>207,213,416,000,000.0</td>\n      <td>186,424,328,000,000.0</td>\n    </tr>\n    <tr>\n      <th>43</th>\n      <td>ifrs-full_IssuedCapital</td>\n      <td>자본금</td>\n      <td>Issued capital</td>\n      <td>재무상태표 [abstract]</td>\n      <td>자본 [abstract]</td>\n      <td>지배기업 소유주지분</td>\n      <td>자본금</td>\n      <td>None</td>\n      <td>897,514,000,000.0</td>\n      <td>897,514,000,000.0</td>\n      <td>897,514,000,000.0</td>\n      <td>897,514,000,000.0</td>\n      <td>897,514,000,000.0</td>\n      <td>897,514,000,000.0</td>\n    </tr>\n    <tr>\n      <th>44</th>\n      <td>dart_IssuedCapitalOfPreferredStock</td>\n      <td>우선주자본금</td>\n      <td>Preference shares</td>\n      <td>재무상태표 [abstract]</td>\n      <td>자본 [abstract]</td>\n      <td>지배기업 소유주지분</td>\n      <td>자본금</td>\n      <td>우선주자본금</td>\n      <td>119,467,000,000.0</td>\n      <td>119,467,000,000.0</td>\n      <td>119,467,000,000.0</td>\n      <td>119,467,000,000.0</td>\n      <td>119,467,000,000.0</td>\n      <td>119,467,000,000.0</td>\n    </tr>\n    <tr>\n      <th>45</th>\n      <td>dart_IssuedCapitalOfCommonStock</td>\n      <td>보통주자본금</td>\n      <td>Ordinary shares</td>\n      <td>재무상태표 [abstract]</td>\n      <td>자본 [abstract]</td>\n      <td>지배기업 소유주지분</td>\n      <td>자본금</td>\n      <td>보통주자본금</td>\n      <td>778,047,000,000.0</td>\n      <td>778,047,000,000.0</td>\n      <td>778,047,000,000.0</td>\n      <td>778,047,000,000.0</td>\n      <td>778,047,000,000.0</td>\n      <td>778,047,000,000.0</td>\n    </tr>\n    <tr>\n      <th>46</th>\n      <td>ifrs-full_SharePremium</td>\n      <td>주식발행초과금</td>\n      <td>Share premium</td>\n      <td>재무상태표 [abstract]</td>\n      <td>자본 [abstract]</td>\n      <td>지배기업 소유주지분</td>\n      <td>주식발행초과금</td>\n      <td>None</td>\n      <td>4,403,893,000,000.0</td>\n      <td>4,403,893,000,000.0</td>\n      <td>4,403,893,000,000.0</td>\n      <td>4,403,893,000,000.0</td>\n      <td>4,403,893,000,000.0</td>\n      <td>4,403,893,000,000.0</td>\n    </tr>\n    <tr>\n      <th>47</th>\n      <td>ifrs-full_RetainedEarnings</td>\n      <td>이익잉여금(결손금)</td>\n      <td>Retained earnings</td>\n      <td>재무상태표 [abstract]</td>\n      <td>자본 [abstract]</td>\n      <td>지배기업 소유주지분</td>\n      <td>이익잉여금(결손금)</td>\n      <td>None</td>\n      <td>293,064,763,000,000.0</td>\n      <td>271,068,211,000,000.0</td>\n      <td>254,582,894,000,000.0</td>\n      <td>242,698,956,000,000.0</td>\n      <td>215,811,200,000,000.0</td>\n      <td>193,086,317,000,000.0</td>\n    </tr>\n    <tr>\n      <th>48</th>\n      <td>dart_ElementsOfOtherStockholdersEquity</td>\n      <td>기타자본항목</td>\n      <td>Other components of equity</td>\n      <td>재무상태표 [abstract]</td>\n      <td>자본 [abstract]</td>\n      <td>지배기업 소유주지분</td>\n      <td>기타자본항목</td>\n      <td>None</td>\n      <td>-2,128,473,000,000.0</td>\n      <td>-8,687,155,000,000.0</td>\n      <td>-4,968,829,000,000.0</td>\n      <td>-7,931,370,000,000.0</td>\n      <td>-13,899,191,000,000.0</td>\n      <td>-11,934,586,000,000.0</td>\n    </tr>\n    <tr>\n      <th>49</th>\n      <td>entity00126380_udf_BS_20201022192911508_Equity...</td>\n      <td>매각예정분류기타자본항목</td>\n      <td>Accumulated other comprehensive income attribu...</td>\n      <td>재무상태표 [abstract]</td>\n      <td>자본 [abstract]</td>\n      <td>지배기업 소유주지분</td>\n      <td>매각예정분류기타자본항목</td>\n      <td>None</td>\n      <td>0.0</td>\n      <td>-12,132,000,000.0</td>\n      <td>0.0</td>\n      <td>0.0</td>\n      <td>NaN</td>\n      <td>356,388,000,000.0</td>\n    </tr>\n    <tr>\n      <th>50</th>\n      <td>ifrs-full_NoncontrollingInterests</td>\n      <td>비지배지분</td>\n      <td>Non-controlling interests</td>\n      <td>재무상태표 [abstract]</td>\n      <td>자본 [abstract]</td>\n      <td>비지배지분</td>\n      <td>None</td>\n      <td>None</td>\n      <td>8,662,234,000,000.0</td>\n      <td>8,277,685,000,000.0</td>\n      <td>7,964,949,000,000.0</td>\n      <td>7,684,184,000,000.0</td>\n      <td>7,278,012,000,000.0</td>\n      <td>6,538,705,000,000.0</td>\n    </tr>\n    <tr>\n      <th>51</th>\n      <td>ifrs-full_Equity</td>\n      <td>자본총계</td>\n      <td>Total equity</td>\n      <td>재무상태표 [abstract]</td>\n      <td>자본 [abstract]</td>\n      <td>자본총계</td>\n      <td>None</td>\n      <td>None</td>\n      <td>304,899,931,000,000.0</td>\n      <td>275,948,016,000,000.0</td>\n      <td>262,880,421,000,000.0</td>\n      <td>247,753,177,000,000.0</td>\n      <td>214,491,428,000,000.0</td>\n      <td>192,963,033,000,000.0</td>\n    </tr>\n    <tr>\n      <th>52</th>\n      <td>ifrs-full_EquityAndLiabilities</td>\n      <td>부채와자본총계</td>\n      <td>Total liabilities and equity</td>\n      <td>재무상태표 [abstract]</td>\n      <td>부채와자본총계</td>\n      <td>None</td>\n      <td>None</td>\n      <td>None</td>\n      <td>426,621,158,000,000.0</td>\n      <td>378,235,718,000,000.0</td>\n      <td>352,564,497,000,000.0</td>\n      <td>339,357,244,000,000.0</td>\n      <td>301,752,090,000,000.0</td>\n      <td>262,174,324,000,000.0</td>\n    </tr>\n  </tbody>\n</table>\n</div>"
     },
     "execution_count": 21,
     "metadata": {},
     "output_type": "execute_result"
    }
   ],
   "source": [
    "fs['bs']"
   ],
   "metadata": {
    "collapsed": false,
    "pycharm": {
     "name": "#%%\n",
     "is_executing": true
    }
   }
  },
  {
   "cell_type": "code",
   "execution_count": null,
   "outputs": [],
   "source": [
    "fs[\"cf\"]\n"
   ],
   "metadata": {
    "collapsed": false
   }
  },
  {
   "cell_type": "code",
   "execution_count": null,
   "outputs": [
    {
     "ename": "KeyError",
     "evalue": "\"None of ['[D310000] Income statement, by function of expense - Consolidated financial statements (Unit: KRW) concept_id'] are in the columns\"",
     "output_type": "error",
     "traceback": [
      "\u001B[0;31m---------------------------------------------------------------------------\u001B[0m",
      "\u001B[0;31mKeyError\u001B[0m                                  Traceback (most recent call last)",
      "Cell \u001B[0;32mIn [55], line 1\u001B[0m\n\u001B[0;32m----> 1\u001B[0m \u001B[43mfs\u001B[49m\u001B[43m[\u001B[49m\u001B[38;5;124;43m'\u001B[39;49m\u001B[38;5;124;43mis\u001B[39;49m\u001B[38;5;124;43m'\u001B[39;49m\u001B[43m]\u001B[49m\u001B[38;5;241;43m.\u001B[39;49m\u001B[43mset_index\u001B[49m\u001B[43m(\u001B[49m\u001B[38;5;124;43m\"\u001B[39;49m\u001B[38;5;124;43m[D310000] Income statement, by function of expense - Consolidated financial statements (Unit: KRW) concept_id\u001B[39;49m\u001B[38;5;124;43m\"\u001B[39;49m\u001B[43m)\u001B[49m\n",
      "File \u001B[0;32m~/Library/Python/3.9/lib/python/site-packages/pandas/util/_decorators.py:317\u001B[0m, in \u001B[0;36mdeprecate_nonkeyword_arguments.<locals>.decorate.<locals>.wrapper\u001B[0;34m(*args, **kwargs)\u001B[0m\n\u001B[1;32m    311\u001B[0m \u001B[38;5;28;01mif\u001B[39;00m \u001B[38;5;28mlen\u001B[39m(args) \u001B[38;5;241m>\u001B[39m num_allow_args:\n\u001B[1;32m    312\u001B[0m     warnings\u001B[38;5;241m.\u001B[39mwarn(\n\u001B[1;32m    313\u001B[0m         msg\u001B[38;5;241m.\u001B[39mformat(arguments\u001B[38;5;241m=\u001B[39marguments),\n\u001B[1;32m    314\u001B[0m         \u001B[38;5;167;01mFutureWarning\u001B[39;00m,\n\u001B[1;32m    315\u001B[0m         stacklevel\u001B[38;5;241m=\u001B[39mfind_stack_level(inspect\u001B[38;5;241m.\u001B[39mcurrentframe()),\n\u001B[1;32m    316\u001B[0m     )\n\u001B[0;32m--> 317\u001B[0m \u001B[38;5;28;01mreturn\u001B[39;00m \u001B[43mfunc\u001B[49m\u001B[43m(\u001B[49m\u001B[38;5;241;43m*\u001B[39;49m\u001B[43margs\u001B[49m\u001B[43m,\u001B[49m\u001B[43m \u001B[49m\u001B[38;5;241;43m*\u001B[39;49m\u001B[38;5;241;43m*\u001B[39;49m\u001B[43mkwargs\u001B[49m\u001B[43m)\u001B[49m\n",
      "File \u001B[0;32m~/Library/Python/3.9/lib/python/site-packages/pandas/core/frame.py:6004\u001B[0m, in \u001B[0;36mDataFrame.set_index\u001B[0;34m(self, keys, drop, append, inplace, verify_integrity)\u001B[0m\n\u001B[1;32m   6001\u001B[0m                 missing\u001B[38;5;241m.\u001B[39mappend(col)\n\u001B[1;32m   6003\u001B[0m \u001B[38;5;28;01mif\u001B[39;00m missing:\n\u001B[0;32m-> 6004\u001B[0m     \u001B[38;5;28;01mraise\u001B[39;00m \u001B[38;5;167;01mKeyError\u001B[39;00m(\u001B[38;5;124mf\u001B[39m\u001B[38;5;124m\"\u001B[39m\u001B[38;5;124mNone of \u001B[39m\u001B[38;5;132;01m{\u001B[39;00mmissing\u001B[38;5;132;01m}\u001B[39;00m\u001B[38;5;124m are in the columns\u001B[39m\u001B[38;5;124m\"\u001B[39m)\n\u001B[1;32m   6006\u001B[0m \u001B[38;5;28;01mif\u001B[39;00m inplace:\n\u001B[1;32m   6007\u001B[0m     frame \u001B[38;5;241m=\u001B[39m \u001B[38;5;28mself\u001B[39m\n",
      "\u001B[0;31mKeyError\u001B[0m: \"None of ['[D310000] Income statement, by function of expense - Consolidated financial statements (Unit: KRW) concept_id'] are in the columns\""
     ]
    }
   ],
   "source": [
    "fs['is'].set_index(\"[D310000] Income statement, by function of expense - Consolidated financial statements (Unit: KRW) concept_id\")"
   ],
   "metadata": {
    "collapsed": false,
    "pycharm": {
     "is_executing": true
    }
   }
  },
  {
   "cell_type": "code",
   "execution_count": 67,
   "outputs": [
    {
     "data": {
      "text/plain": "20200101-20201231  (연결재무제표,)   236,806,988,000,000.0\n20190101-20191231  (연결재무제표,)   230,400,881,000,000.0\n20180101-20181231  (연결재무제표,)   243,771,415,000,000.0\n20170101-20171231  (연결재무제표,)   239,575,376,000,000.0\n20160101-20161231  (연결재무제표,)   201,866,745,000,000.0\nName: ifrs-full_Revenue, dtype: object"
     },
     "execution_count": 67,
     "metadata": {},
     "output_type": "execute_result"
    }
   ],
   "source": [
    "myincom = fs['is'].set_index(('[D310000] Income statement, by function of expense - Consolidated financial statements (Unit: KRW)', 'concept_id'))\n",
    "myincom.loc['ifrs-full_Revenue'][6:]\n",
    "incomdate = []\n",
    "for a in myincom.columns[6:]:\n",
    "    incomdate.append(a[0])\n",
    "incomvalue = list(myincom.loc[0][6:])\n",
    "\n"
   ],
   "metadata": {
    "collapsed": false
   }
  },
  {
   "cell_type": "code",
   "execution_count": null,
   "outputs": [
    {
     "name": "stdout",
     "output_type": "stream",
     "text": [
      "('[D310000] Income statement, by function of expense - Consolidated financial statements (Unit: KRW)', 'concept_id')\n",
      "('[D310000] Income statement, by function of expense - Consolidated financial statements (Unit: KRW)', 'label_ko')\n",
      "('[D310000] Income statement, by function of expense - Consolidated financial statements (Unit: KRW)', 'label_en')\n",
      "('[D310000] Income statement, by function of expense - Consolidated financial statements (Unit: KRW)', 'class0')\n",
      "('[D310000] Income statement, by function of expense - Consolidated financial statements (Unit: KRW)', 'class1')\n",
      "('[D310000] Income statement, by function of expense - Consolidated financial statements (Unit: KRW)', 'class2')\n",
      "('20210101-20211231', ('연결재무제표',))\n",
      "('20200101-20201231', ('연결재무제표',))\n",
      "('20190101-20191231', ('연결재무제표',))\n",
      "('20180101-20181231', ('연결재무제표',))\n",
      "('20170101-20171231', ('연결재무제표',))\n",
      "('20160101-20161231', ('연결재무제표',))\n"
     ]
    }
   ],
   "source": [
    "for a in fs['is'].keys():\n",
    "    print(a)"
   ],
   "metadata": {
    "collapsed": false,
    "pycharm": {
     "is_executing": true
    }
   }
  },
  {
   "cell_type": "code",
   "execution_count": 22,
   "outputs": [],
   "source": [
    "# incom = fs['is'].to_json(force_ascii=False)\n",
    "incom = fs['is']"
   ],
   "metadata": {
    "collapsed": false,
    "pycharm": {
     "name": "#%%\n"
    }
   }
  },
  {
   "cell_type": "code",
   "execution_count": null,
   "outputs": [],
   "source": [
    "#incom[\"[D310000] Income statement, by function of expense - Consolidated financial statements (Unit: KRW)\"][\"label_ko\"].to_csv(\"asdf.csv\")\n",
    "incomdate = []\n",
    "for a in incom.columns[6:]:\n",
    "    incomdate.append(a[0])\n",
    "incomvalue = list(incom.loc[0][6:])"
   ],
   "metadata": {
    "collapsed": false,
    "pycharm": {
     "is_executing": true
    }
   }
  },
  {
   "cell_type": "code",
   "execution_count": 45,
   "outputs": [
    {
     "name": "stdout",
     "output_type": "stream",
     "text": [
      " * Serving Flask app '__main__'\n",
      " * Debug mode: off\n"
     ]
    },
    {
     "name": "stderr",
     "output_type": "stream",
     "text": [
      "WARNING: This is a development server. Do not use it in a production deployment. Use a production WSGI server instead.\n",
      " * Running on all addresses (0.0.0.0)\n",
      " * Running on http://127.0.0.1:1377\n",
      " * Running on http://172.30.1.91:1377\n",
      "Press CTRL+C to quit\n",
      "127.0.0.1 - - [24/Sep/2022 16:14:25] \"GET / HTTP/1.1\" 200 -\n",
      "127.0.0.1 - - [24/Sep/2022 16:14:25] \"GET /favicon.ico HTTP/1.1\" 404 -\n"
     ]
    }
   ],
   "source": [
    "#매출액\n",
    "from flask import Flask\n",
    "from flask_jsonpify import jsonpify\n",
    "\n",
    "app = Flask (__name__)\n",
    "\n",
    "@app.route('/')\n",
    "def hello_world():\n",
    "    return jsonpify(\n",
    "        i = list(range(0,len(incomvalue))),\n",
    "        m = incomvalue,\n",
    "        d = incomdate\n",
    "    )\n",
    "\n",
    "if __name__ == \"__main__\":\n",
    "    app.run(host='0.0.0.0', port='1377')\n"
   ],
   "metadata": {
    "collapsed": false
   }
  },
  {
   "cell_type": "markdown",
   "source": [
    "incom_revenue"
   ],
   "metadata": {
    "collapsed": false
   }
  },
  {
   "cell_type": "markdown",
   "source": [],
   "metadata": {
    "collapsed": false
   }
  }
 ],
 "metadata": {
  "kernelspec": {
   "display_name": "Python 3.6.8 64-bit",
   "language": "python",
   "name": "python3"
  },
  "language_info": {
   "codemirror_mode": {
    "name": "ipython",
    "version": 3
   },
   "file_extension": ".py",
   "mimetype": "text/x-python",
   "name": "python",
   "nbconvert_exporter": "python",
   "pygments_lexer": "ipython3",
   "version": "3.6.8"
  },
  "orig_nbformat": 4,
  "vscode": {
   "interpreter": {
    "hash": "4243d496856fc22b6df0d01e5f24f9f54dc63f8f5f6499bfd95af01933faa701"
   }
  }
 },
 "nbformat": 4,
 "nbformat_minor": 2
}
